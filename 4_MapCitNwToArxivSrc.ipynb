{
 "cells": [
  {
   "cell_type": "code",
   "execution_count": 5,
   "metadata": {},
   "outputs": [],
   "source": [
    "import pickle"
   ]
  },
  {
   "cell_type": "code",
   "execution_count": null,
   "metadata": {},
   "outputs": [],
   "source": []
  },
  {
   "cell_type": "code",
   "execution_count": 6,
   "metadata": {},
   "outputs": [],
   "source": [
    "with open(\"../meaningful-comparison/data/IMP_paper_global_id_dict.pkl\", \"rb\") as f:\n",
    "    paper_global_id_dict = pickle.load(f)\n",
    "\n",
    "with open(\"../meaningful-comparison/data/IMP_paper_id_titles.pkl\", \"rb\") as f:\n",
    "    paper_id_titles = pickle.load(f)"
   ]
  },
  {
   "cell_type": "code",
   "execution_count": 9,
   "metadata": {},
   "outputs": [
    {
     "data": {
      "text/plain": [
       "[('onepositiveandtwonegativeresultsforderivedcategoriesofalgebraicstacks', 0),\n",
       " ('helicityamplitudesandelectromagneticdecaysofstrangebaryonresonances', 1),\n",
       " ('discretemorsetheoryformodulispacesofflexiblepolygonsorsolitairegameonthecircle',\n",
       "  2),\n",
       " ('improvingthepresentationandunderstandingofriskmodels', 3),\n",
       " ('abiomimeticmodeloftheouterplexiformlayerbyincorporatingmemristivedevices',\n",
       "  4),\n",
       " ('applicationofanudgingtechniquetothermoacoustictomography', 5),\n",
       " ('iterativereconstructionmethodsforwaveequations', 6),\n",
       " ('thegl11liesuperbialgebras', 7),\n",
       " ('dismantlingthemanteltests', 8),\n",
       " ('slantsubmanifoldsofquaternionicspaceforms', 9)]"
      ]
     },
     "execution_count": 9,
     "metadata": {},
     "output_type": "execute_result"
    }
   ],
   "source": [
    "list(paper_global_id_dict.items())[0:10]"
   ]
  },
  {
   "cell_type": "code",
   "execution_count": 10,
   "metadata": {},
   "outputs": [
    {
     "data": {
      "text/plain": [
       "[('onepositiveandtwonegativeresultsforderivedcategoriesofalgebraicstacks',\n",
       "  ['e_1405.1888']),\n",
       " ('helicityamplitudesandelectromagneticdecaysofstrangebaryonresonances',\n",
       "  ['e_nucl-th_0512069']),\n",
       " ('discretemorsetheoryformodulispacesofflexiblepolygonsorsolitairegameonthecircle',\n",
       "  ['e_1504.05139']),\n",
       " ('improvingthepresentationandunderstandingofriskmodels', ['e_1504.05138']),\n",
       " ('abiomimeticmodeloftheouterplexiformlayerbyincorporatingmemristivedevices',\n",
       "  ['e_1112.0655']),\n",
       " ('applicationofanudgingtechniquetothermoacoustictomography', ['e_1112.0654']),\n",
       " ('iterativereconstructionmethodsforwaveequations', ['e_1112.0653']),\n",
       " ('thegl11liesuperbialgebras', ['e_1112.0652']),\n",
       " ('dismantlingthemanteltests', ['e_1112.0651']),\n",
       " ('slantsubmanifoldsofquaternionicspaceforms', ['e_1112.0650'])]"
      ]
     },
     "execution_count": 10,
     "metadata": {},
     "output_type": "execute_result"
    }
   ],
   "source": [
    "list(paper_id_titles.items())[0:10]"
   ]
  },
  {
   "cell_type": "code",
   "execution_count": null,
   "metadata": {},
   "outputs": [],
   "source": []
  },
  {
   "cell_type": "code",
   "execution_count": null,
   "metadata": {},
   "outputs": [],
   "source": []
  },
  {
   "cell_type": "code",
   "execution_count": 11,
   "metadata": {},
   "outputs": [],
   "source": [
    "with open('data/network_dict.pkl', 'rb') as f:\n",
    "    network_dict = pickle.load(f)"
   ]
  },
  {
   "cell_type": "code",
   "execution_count": null,
   "metadata": {},
   "outputs": [],
   "source": []
  },
  {
   "cell_type": "code",
   "execution_count": null,
   "metadata": {},
   "outputs": [],
   "source": []
  },
  {
   "cell_type": "code",
   "execution_count": null,
   "metadata": {},
   "outputs": [],
   "source": [
    "for k, v in next"
   ]
  }
 ],
 "metadata": {
  "kernelspec": {
   "display_name": "Python 3",
   "language": "python",
   "name": "python3"
  },
  "language_info": {
   "codemirror_mode": {
    "name": "ipython",
    "version": 3
   },
   "file_extension": ".py",
   "mimetype": "text/x-python",
   "name": "python",
   "nbconvert_exporter": "python",
   "pygments_lexer": "ipython3",
   "version": "3.6.8"
  }
 },
 "nbformat": 4,
 "nbformat_minor": 2
}
