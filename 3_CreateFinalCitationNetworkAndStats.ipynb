{
 "cells": [
  {
   "cell_type": "code",
   "execution_count": 20,
   "metadata": {},
   "outputs": [],
   "source": [
    "import fileinput\n",
    "import json\n",
    "import ast\n",
    "from collections import Counter, defaultdict\n",
    "import pickle\n",
    "import re\n",
    "from fuzzywuzzy import fuzz"
   ]
  },
  {
   "cell_type": "code",
   "execution_count": null,
   "metadata": {},
   "outputs": [],
   "source": []
  },
  {
   "cell_type": "code",
   "execution_count": 2,
   "metadata": {},
   "outputs": [],
   "source": [
    "with open('utils/conf_acr_dict.pkl', 'rb') as f:\n",
    "    conf_acr = pickle.load(f)\n",
    "    \n",
    "with open('utils/conf_title_dict.pkl', 'rb') as f:\n",
    "    conf_title = pickle.load(f)\n",
    "    \n",
    "with open('utils/jour_title_dict.pkl', 'rb') as f:\n",
    "    jour_title = pickle.load(f)"
   ]
  },
  {
   "cell_type": "code",
   "execution_count": 3,
   "metadata": {},
   "outputs": [
    {
     "data": {
      "text/plain": [
       "<_sre.SRE_Match object; span=(6, 10), match='NIPS'>"
      ]
     },
     "execution_count": 3,
     "metadata": {},
     "output_type": "execute_result"
    }
   ],
   "source": [
    "re_search = '\\b'+'NIPS'+'\\b'\n",
    "x = re.search(r'\\bNIPS\\b', 'MLINI@NIPS')\n",
    "x"
   ]
  },
  {
   "cell_type": "code",
   "execution_count": 4,
   "metadata": {},
   "outputs": [
    {
     "data": {
      "text/plain": [
       "<_sre.SRE_Match object; span=(6, 10), match='NIPS'>"
      ]
     },
     "execution_count": 4,
     "metadata": {},
     "output_type": "execute_result"
    }
   ],
   "source": [
    "re_search = '\\b'+'NIPS'+'\\b'\n",
    "x = re.search(r'\\b'+'NIPS'+r'\\b', 'MLINI@NIPS')\n",
    "x"
   ]
  },
  {
   "cell_type": "code",
   "execution_count": 10,
   "metadata": {},
   "outputs": [
    {
     "name": "stdout",
     "output_type": "stream",
     "text": [
      "23360 'NoneType' object has no attribute 'lower'\n",
      "55666 'NoneType' object has no attribute 'lower'\n",
      "166073 'NoneType' object has no attribute 'lower'\n",
      "178102 'NoneType' object has no attribute 'lower'\n",
      "245849 'NoneType' object has no attribute 'lower'\n",
      "252246 'NoneType' object has no attribute 'lower'\n",
      "293005 'NoneType' object has no attribute 'lower'\n",
      "299016 'NoneType' object has no attribute 'lower'\n",
      "353570 'NoneType' object has no attribute 'lower'\n",
      "356247 'NoneType' object has no attribute 'lower'\n",
      "381899 'NoneType' object has no attribute 'lower'\n",
      "500000\n",
      "563135 'NoneType' object has no attribute 'lower'\n",
      "629600 'NoneType' object has no attribute 'lower'\n",
      "794186 'NoneType' object has no attribute 'lower'\n",
      "846895 'NoneType' object has no attribute 'lower'\n",
      "867795 'NoneType' object has no attribute 'lower'\n",
      "897671 'NoneType' object has no attribute 'lower'\n",
      "907247 'NoneType' object has no attribute 'lower'\n",
      "943031 'NoneType' object has no attribute 'lower'\n",
      "1000000\n",
      "1029643 'NoneType' object has no attribute 'lower'\n",
      "1197983 'NoneType' object has no attribute 'lower'\n",
      "1305548 'NoneType' object has no attribute 'lower'\n",
      "1310482 'NoneType' object has no attribute 'lower'\n",
      "1338672 'NoneType' object has no attribute 'lower'\n",
      "1500000\n",
      "1531220 'NoneType' object has no attribute 'lower'\n",
      "1541434 'NoneType' object has no attribute 'lower'\n",
      "1554370 'NoneType' object has no attribute 'lower'\n",
      "1609247 'NoneType' object has no attribute 'lower'\n",
      "1658269 'NoneType' object has no attribute 'lower'\n",
      "1713145 'NoneType' object has no attribute 'lower'\n",
      "1874273 'NoneType' object has no attribute 'lower'\n",
      "1879976 'NoneType' object has no attribute 'lower'\n",
      "1945268 'NoneType' object has no attribute 'lower'\n",
      "2000000\n",
      "2021123 'NoneType' object has no attribute 'lower'\n",
      "2149686 'NoneType' object has no attribute 'lower'\n",
      "2290131 'NoneType' object has no attribute 'lower'\n",
      "2405176 'NoneType' object has no attribute 'lower'\n",
      "2457778 'NoneType' object has no attribute 'lower'\n",
      "2485408 'NoneType' object has no attribute 'lower'\n",
      "2500000\n",
      "3000000\n",
      "3134682 'NoneType' object has no attribute 'lower'\n",
      "3134760 'NoneType' object has no attribute 'lower'\n",
      "3135665 'NoneType' object has no attribute 'lower'\n",
      "3135979 'NoneType' object has no attribute 'lower'\n",
      "3136020 'NoneType' object has no attribute 'lower'\n",
      "3137502 'NoneType' object has no attribute 'lower'\n",
      "3137676 'NoneType' object has no attribute 'lower'\n",
      "3137825 'NoneType' object has no attribute 'lower'\n",
      "3137865 'NoneType' object has no attribute 'lower'\n",
      "3138092 'NoneType' object has no attribute 'lower'\n",
      "3138115 'NoneType' object has no attribute 'lower'\n",
      "3138227 'NoneType' object has no attribute 'lower'\n",
      "3138986 'NoneType' object has no attribute 'lower'\n",
      "3139320 'NoneType' object has no attribute 'lower'\n",
      "3139426 'NoneType' object has no attribute 'lower'\n",
      "3139484 'NoneType' object has no attribute 'lower'\n",
      "3139488 'NoneType' object has no attribute 'lower'\n",
      "3139698 'NoneType' object has no attribute 'lower'\n",
      "3139936 'NoneType' object has no attribute 'lower'\n",
      "3140201 'NoneType' object has no attribute 'lower'\n",
      "3140417 'NoneType' object has no attribute 'lower'\n",
      "3140876 'NoneType' object has no attribute 'lower'\n",
      "3140947 'NoneType' object has no attribute 'lower'\n",
      "3141117 'NoneType' object has no attribute 'lower'\n",
      "3141447 'NoneType' object has no attribute 'lower'\n",
      "3141597 'NoneType' object has no attribute 'lower'\n",
      "3141696 'NoneType' object has no attribute 'lower'\n",
      "3142248 'NoneType' object has no attribute 'lower'\n",
      "3142552 'NoneType' object has no attribute 'lower'\n",
      "3143024 'NoneType' object has no attribute 'lower'\n",
      "3143055 'NoneType' object has no attribute 'lower'\n",
      "3143689 'NoneType' object has no attribute 'lower'\n",
      "3143997 'NoneType' object has no attribute 'lower'\n",
      "3144524 'NoneType' object has no attribute 'lower'\n",
      "3145156 'NoneType' object has no attribute 'lower'\n",
      "3146818 'NoneType' object has no attribute 'lower'\n",
      "3146856 'NoneType' object has no attribute 'lower'\n",
      "3147540 'NoneType' object has no attribute 'lower'\n",
      "3147768 'NoneType' object has no attribute 'lower'\n",
      "3147881 'NoneType' object has no attribute 'lower'\n",
      "3148021 'NoneType' object has no attribute 'lower'\n",
      "3148499 'NoneType' object has no attribute 'lower'\n",
      "3148710 'NoneType' object has no attribute 'lower'\n",
      "3148805 'NoneType' object has no attribute 'lower'\n",
      "3148985 'NoneType' object has no attribute 'lower'\n",
      "3149294 'NoneType' object has no attribute 'lower'\n",
      "3149474 'NoneType' object has no attribute 'lower'\n",
      "3149603 'NoneType' object has no attribute 'lower'\n",
      "3150473 'NoneType' object has no attribute 'lower'\n",
      "3150483 'NoneType' object has no attribute 'lower'\n",
      "3150738 'NoneType' object has no attribute 'lower'\n",
      "3151219 'NoneType' object has no attribute 'lower'\n",
      "3151964 'NoneType' object has no attribute 'lower'\n",
      "3152330 'NoneType' object has no attribute 'lower'\n",
      "3153415 'NoneType' object has no attribute 'lower'\n",
      "3153723 'NoneType' object has no attribute 'lower'\n",
      "3154060 'NoneType' object has no attribute 'lower'\n",
      "3154066 'NoneType' object has no attribute 'lower'\n",
      "3155183 'NoneType' object has no attribute 'lower'\n",
      "3156063 'NoneType' object has no attribute 'lower'\n",
      "3156144 'NoneType' object has no attribute 'lower'\n",
      "3156181 'NoneType' object has no attribute 'lower'\n",
      "3156297 'NoneType' object has no attribute 'lower'\n",
      "3156381 'NoneType' object has no attribute 'lower'\n",
      "3156943 'NoneType' object has no attribute 'lower'\n",
      "3157376 'NoneType' object has no attribute 'lower'\n",
      "3157816 'NoneType' object has no attribute 'lower'\n",
      "3158199 'NoneType' object has no attribute 'lower'\n",
      "3158588 'NoneType' object has no attribute 'lower'\n",
      "3158610 'NoneType' object has no attribute 'lower'\n",
      "3158721 'NoneType' object has no attribute 'lower'\n",
      "3158857 'NoneType' object has no attribute 'lower'\n",
      "3159062 'NoneType' object has no attribute 'lower'\n",
      "3159220 'NoneType' object has no attribute 'lower'\n",
      "3159524 'NoneType' object has no attribute 'lower'\n",
      "3159895 'NoneType' object has no attribute 'lower'\n",
      "3160139 'NoneType' object has no attribute 'lower'\n",
      "3160344 'NoneType' object has no attribute 'lower'\n",
      "3160588 'NoneType' object has no attribute 'lower'\n",
      "3160627 'NoneType' object has no attribute 'lower'\n",
      "3160832 'NoneType' object has no attribute 'lower'\n",
      "3162212 'NoneType' object has no attribute 'lower'\n",
      "3163125 'NoneType' object has no attribute 'lower'\n",
      "3163149 'NoneType' object has no attribute 'lower'\n",
      "3163377 'NoneType' object has no attribute 'lower'\n",
      "3163386 'NoneType' object has no attribute 'lower'\n",
      "3163694 'NoneType' object has no attribute 'lower'\n",
      "3163822 'NoneType' object has no attribute 'lower'\n",
      "3163869 'NoneType' object has no attribute 'lower'\n",
      "3164080 'NoneType' object has no attribute 'lower'\n",
      "3164276 'NoneType' object has no attribute 'lower'\n",
      "3164338 'NoneType' object has no attribute 'lower'\n",
      "3164820 'NoneType' object has no attribute 'lower'\n",
      "3164925 'NoneType' object has no attribute 'lower'\n",
      "3165745 'NoneType' object has no attribute 'lower'\n",
      "3166060 'NoneType' object has no attribute 'lower'\n",
      "3166138 'NoneType' object has no attribute 'lower'\n",
      "3166295 'NoneType' object has no attribute 'lower'\n",
      "3166534 'NoneType' object has no attribute 'lower'\n",
      "3167055 'NoneType' object has no attribute 'lower'\n",
      "3167081 'NoneType' object has no attribute 'lower'\n",
      "3167119 'NoneType' object has no attribute 'lower'\n",
      "3168064 'NoneType' object has no attribute 'lower'\n",
      "3168676 'NoneType' object has no attribute 'lower'\n",
      "3168697 'NoneType' object has no attribute 'lower'\n",
      "3169024 'NoneType' object has no attribute 'lower'\n",
      "3169212 'NoneType' object has no attribute 'lower'\n",
      "3169339 'NoneType' object has no attribute 'lower'\n",
      "3169451 'NoneType' object has no attribute 'lower'\n",
      "3169663 'NoneType' object has no attribute 'lower'\n",
      "3169882 'NoneType' object has no attribute 'lower'\n",
      "3169951 'NoneType' object has no attribute 'lower'\n",
      "3170177 'NoneType' object has no attribute 'lower'\n",
      "3170341 'NoneType' object has no attribute 'lower'\n",
      "3170359 'NoneType' object has no attribute 'lower'\n",
      "3171052 'NoneType' object has no attribute 'lower'\n",
      "3172256 'NoneType' object has no attribute 'lower'\n",
      "3172467 'NoneType' object has no attribute 'lower'\n",
      "3172934 'NoneType' object has no attribute 'lower'\n",
      "3173107 'NoneType' object has no attribute 'lower'\n",
      "3173110 'NoneType' object has no attribute 'lower'\n",
      "3173183 'NoneType' object has no attribute 'lower'\n",
      "3173392 'NoneType' object has no attribute 'lower'\n",
      "3173669 'NoneType' object has no attribute 'lower'\n",
      "3173806 'NoneType' object has no attribute 'lower'\n",
      "3173923 'NoneType' object has no attribute 'lower'\n",
      "3174603 'NoneType' object has no attribute 'lower'\n",
      "3174761 'NoneType' object has no attribute 'lower'\n",
      "3174820 'NoneType' object has no attribute 'lower'\n",
      "3174945 'NoneType' object has no attribute 'lower'\n",
      "3175044 'NoneType' object has no attribute 'lower'\n",
      "3175191 'NoneType' object has no attribute 'lower'\n"
     ]
    },
    {
     "name": "stdout",
     "output_type": "stream",
     "text": [
      "3175192 'NoneType' object has no attribute 'lower'\n",
      "3175487 'NoneType' object has no attribute 'lower'\n",
      "3175623 'NoneType' object has no attribute 'lower'\n",
      "3175687 'NoneType' object has no attribute 'lower'\n",
      "3175747 'NoneType' object has no attribute 'lower'\n",
      "3175998 'NoneType' object has no attribute 'lower'\n",
      "3176345 'NoneType' object has no attribute 'lower'\n",
      "3176582 'NoneType' object has no attribute 'lower'\n",
      "3177843 'NoneType' object has no attribute 'lower'\n",
      "3177975 'NoneType' object has no attribute 'lower'\n",
      "3178210 'NoneType' object has no attribute 'lower'\n",
      "3178445 'NoneType' object has no attribute 'lower'\n",
      "3178684 'NoneType' object has no attribute 'lower'\n",
      "3178836 'NoneType' object has no attribute 'lower'\n",
      "3178886 'NoneType' object has no attribute 'lower'\n",
      "3179196 'NoneType' object has no attribute 'lower'\n",
      "3179210 'NoneType' object has no attribute 'lower'\n",
      "3179290 'NoneType' object has no attribute 'lower'\n",
      "3179520 'NoneType' object has no attribute 'lower'\n",
      "3180691 'NoneType' object has no attribute 'lower'\n",
      "3181300 'NoneType' object has no attribute 'lower'\n",
      "3181386 'NoneType' object has no attribute 'lower'\n",
      "3181720 'NoneType' object has no attribute 'lower'\n",
      "3181841 'NoneType' object has no attribute 'lower'\n",
      "3182196 'NoneType' object has no attribute 'lower'\n",
      "3182378 'NoneType' object has no attribute 'lower'\n",
      "3182384 'NoneType' object has no attribute 'lower'\n",
      "3182569 'NoneType' object has no attribute 'lower'\n",
      "3182700 'NoneType' object has no attribute 'lower'\n",
      "3183083 'NoneType' object has no attribute 'lower'\n",
      "3184080 'NoneType' object has no attribute 'lower'\n",
      "3184511 'NoneType' object has no attribute 'lower'\n",
      "3184950 'NoneType' object has no attribute 'lower'\n",
      "3185157 'NoneType' object has no attribute 'lower'\n",
      "3185360 'NoneType' object has no attribute 'lower'\n",
      "3186692 'NoneType' object has no attribute 'lower'\n",
      "3187269 'NoneType' object has no attribute 'lower'\n",
      "3187349 'NoneType' object has no attribute 'lower'\n",
      "3187548 'NoneType' object has no attribute 'lower'\n",
      "3187726 'NoneType' object has no attribute 'lower'\n",
      "3187858 'NoneType' object has no attribute 'lower'\n",
      "3187894 'NoneType' object has no attribute 'lower'\n",
      "3188155 'NoneType' object has no attribute 'lower'\n",
      "3188393 'NoneType' object has no attribute 'lower'\n",
      "3188754 'NoneType' object has no attribute 'lower'\n",
      "3188783 'NoneType' object has no attribute 'lower'\n",
      "3188884 'NoneType' object has no attribute 'lower'\n",
      "3188957 'NoneType' object has no attribute 'lower'\n",
      "3189138 'NoneType' object has no attribute 'lower'\n",
      "3189298 'NoneType' object has no attribute 'lower'\n",
      "3189326 'NoneType' object has no attribute 'lower'\n",
      "3190118 'NoneType' object has no attribute 'lower'\n",
      "3190269 'NoneType' object has no attribute 'lower'\n",
      "3190494 'NoneType' object has no attribute 'lower'\n",
      "3191145 'NoneType' object has no attribute 'lower'\n",
      "3191311 'NoneType' object has no attribute 'lower'\n",
      "3192773 'NoneType' object has no attribute 'lower'\n",
      "3192967 'NoneType' object has no attribute 'lower'\n",
      "3193187 'NoneType' object has no attribute 'lower'\n",
      "3193520 'NoneType' object has no attribute 'lower'\n",
      "3193711 'NoneType' object has no attribute 'lower'\n",
      "3194367 'NoneType' object has no attribute 'lower'\n",
      "3194738 'NoneType' object has no attribute 'lower'\n",
      "3194979 'NoneType' object has no attribute 'lower'\n",
      "3195010 'NoneType' object has no attribute 'lower'\n",
      "3195507 'NoneType' object has no attribute 'lower'\n",
      "3195734 'NoneType' object has no attribute 'lower'\n",
      "3196060 'NoneType' object has no attribute 'lower'\n",
      "3196320 'NoneType' object has no attribute 'lower'\n",
      "3196477 'NoneType' object has no attribute 'lower'\n",
      "3196781 'NoneType' object has no attribute 'lower'\n",
      "3196874 'NoneType' object has no attribute 'lower'\n",
      "3196947 'NoneType' object has no attribute 'lower'\n",
      "3197088 'NoneType' object has no attribute 'lower'\n",
      "3197461 'NoneType' object has no attribute 'lower'\n",
      "3197531 'NoneType' object has no attribute 'lower'\n",
      "3197915 'NoneType' object has no attribute 'lower'\n",
      "3198066 'NoneType' object has no attribute 'lower'\n",
      "3198451 'NoneType' object has no attribute 'lower'\n",
      "3198531 'NoneType' object has no attribute 'lower'\n",
      "3198927 'NoneType' object has no attribute 'lower'\n",
      "3200762 'NoneType' object has no attribute 'lower'\n",
      "3201162 'NoneType' object has no attribute 'lower'\n",
      "3201396 'NoneType' object has no attribute 'lower'\n",
      "3202054 'NoneType' object has no attribute 'lower'\n",
      "3202699 'NoneType' object has no attribute 'lower'\n",
      "3203297 'NoneType' object has no attribute 'lower'\n",
      "3203947 'NoneType' object has no attribute 'lower'\n",
      "3204964 'NoneType' object has no attribute 'lower'\n",
      "3204989 'NoneType' object has no attribute 'lower'\n",
      "3204991 'NoneType' object has no attribute 'lower'\n",
      "3205547 'NoneType' object has no attribute 'lower'\n",
      "3205747 'NoneType' object has no attribute 'lower'\n",
      "3205780 'NoneType' object has no attribute 'lower'\n",
      "3206042 'NoneType' object has no attribute 'lower'\n",
      "3206053 'NoneType' object has no attribute 'lower'\n",
      "3206816 'NoneType' object has no attribute 'lower'\n",
      "3206898 'NoneType' object has no attribute 'lower'\n",
      "3206927 'NoneType' object has no attribute 'lower'\n",
      "3206971 'NoneType' object has no attribute 'lower'\n",
      "3207171 'NoneType' object has no attribute 'lower'\n",
      "3207245 'NoneType' object has no attribute 'lower'\n",
      "3207255 'NoneType' object has no attribute 'lower'\n",
      "3207338 'NoneType' object has no attribute 'lower'\n",
      "3207602 'NoneType' object has no attribute 'lower'\n",
      "3208532 'NoneType' object has no attribute 'lower'\n",
      "3210069 'NoneType' object has no attribute 'lower'\n",
      "3210278 'NoneType' object has no attribute 'lower'\n",
      "3210294 'NoneType' object has no attribute 'lower'\n",
      "3210766 'NoneType' object has no attribute 'lower'\n",
      "3211424 'NoneType' object has no attribute 'lower'\n",
      "3211584 'NoneType' object has no attribute 'lower'\n",
      "3211688 'NoneType' object has no attribute 'lower'\n",
      "3211769 'NoneType' object has no attribute 'lower'\n",
      "3211895 'NoneType' object has no attribute 'lower'\n",
      "3212161 'NoneType' object has no attribute 'lower'\n",
      "3212654 'NoneType' object has no attribute 'lower'\n",
      "3213019 'NoneType' object has no attribute 'lower'\n",
      "3213139 'NoneType' object has no attribute 'lower'\n",
      "3213307 'NoneType' object has no attribute 'lower'\n",
      "3213440 'NoneType' object has no attribute 'lower'\n",
      "3213488 'NoneType' object has no attribute 'lower'\n",
      "3213990 'NoneType' object has no attribute 'lower'\n",
      "3214137 'NoneType' object has no attribute 'lower'\n",
      "3214452 'NoneType' object has no attribute 'lower'\n",
      "3214791 'NoneType' object has no attribute 'lower'\n",
      "3214795 'NoneType' object has no attribute 'lower'\n",
      "3215266 'NoneType' object has no attribute 'lower'\n",
      "3215384 'NoneType' object has no attribute 'lower'\n",
      "3215431 'NoneType' object has no attribute 'lower'\n",
      "3215446 'NoneType' object has no attribute 'lower'\n",
      "3215537 'NoneType' object has no attribute 'lower'\n",
      "3215640 'NoneType' object has no attribute 'lower'\n",
      "3216680 'NoneType' object has no attribute 'lower'\n",
      "3217041 'NoneType' object has no attribute 'lower'\n",
      "3217161 'NoneType' object has no attribute 'lower'\n",
      "3217606 'NoneType' object has no attribute 'lower'\n",
      "3217996 'NoneType' object has no attribute 'lower'\n",
      "3218291 'NoneType' object has no attribute 'lower'\n",
      "3219057 'NoneType' object has no attribute 'lower'\n",
      "3219585 'NoneType' object has no attribute 'lower'\n",
      "3219897 'NoneType' object has no attribute 'lower'\n",
      "3220144 'NoneType' object has no attribute 'lower'\n",
      "3220277 'NoneType' object has no attribute 'lower'\n",
      "3220386 'NoneType' object has no attribute 'lower'\n",
      "3220775 'NoneType' object has no attribute 'lower'\n",
      "3220817 'NoneType' object has no attribute 'lower'\n",
      "3220932 'NoneType' object has no attribute 'lower'\n",
      "3221287 'NoneType' object has no attribute 'lower'\n",
      "3221673 'NoneType' object has no attribute 'lower'\n",
      "3222487 'NoneType' object has no attribute 'lower'\n",
      "3223276 'NoneType' object has no attribute 'lower'\n",
      "3500000\n",
      "4000000\n",
      "4500000\n",
      "5000000\n"
     ]
    }
   ],
   "source": [
    "counter = 0\n",
    "\n",
    "network_dict = {}\n",
    "edge_dict = {}\n",
    "\n",
    "# relevant_venue_fields = ['_id', 'raw', 'type', 'name_d', 'sid', 't', 'name_s', 'name', 'src']\n",
    "# venue_stats = {x: Counter() for x in relevant_venue_fields}\n",
    "\n",
    "with fileinput.input(\"/home/singh_shruti/data/mag_aminer/citation_network/dblpv13.json\") as f:\n",
    "    for line in f:\n",
    "        if counter == 0:\n",
    "            counter += 1\n",
    "            continue\n",
    "        counter += 1\n",
    "\n",
    "        if counter%500000 == 0:\n",
    "            print(counter)\n",
    "        \n",
    "        try:\n",
    "            line = line.strip()\n",
    "            if line.startswith(\",{\"):\n",
    "                line = line[1:]\n",
    "            try:\n",
    "                pdict = json.loads(line)\n",
    "            except:\n",
    "                pdict = ast.literal_eval(line)\n",
    "\n",
    "\n",
    "            if \"venue\" in pdict:\n",
    "                if \"raw\" in pdict[\"venue\"]:\n",
    "                    raw_venue_name = pdict[\"venue\"][\"raw\"].lower().strip()\n",
    "                    found = False\n",
    "\n",
    "                    for conf_k, acrs in conf_acr.items():\n",
    "                        for aname in acrs:\n",
    "    #                         re_search = '\\b'+aname.lower()+'\\b'\n",
    "                            x = re.search(r'\\b'+aname.lower().strip()+r'\\b', raw_venue_name)\n",
    "                            if x:\n",
    "                                if \"_id\" in pdict and pdict[\"_id\"]: \n",
    "                                    if type(pdict[\"_id\"])==str:\n",
    "                                        network_dict[pdict[\"_id\"]] = pdict\n",
    "                                        network_dict[pdict[\"_id\"]].update({\"venue_key_shs\": conf_k})\n",
    "                                    else:\n",
    "                                        print(counter, pdict[\"_id\"])\n",
    "                                found = True\n",
    "                                break\n",
    "                        if found:\n",
    "                            break\n",
    "                    if not found:\n",
    "                        raw_venue_name_without_of_the = raw_venue_name.replace(\" of \", \" \")\n",
    "                        raw_venue_name_without_of_the = raw_venue_name_without_of_the.replace(\" the \", \" \")\n",
    "                        for conf_k, acrs in conf_title.items():\n",
    "                            for aname in acrs:\n",
    "                                aname_clean = aname.lower().strip().replace(\" of \", \" \")\n",
    "                                aname_clean = aname_clean.replace(\" the \", \" \")\n",
    "                                if raw_venue_name_without_of_the.find(aname_clean) > -1:\n",
    "                                    if \"_id\" in pdict and pdict[\"_id\"]: \n",
    "                                        if type(pdict[\"_id\"])==str:\n",
    "                                            network_dict[pdict[\"_id\"]] = pdict\n",
    "                                            network_dict[pdict[\"_id\"]].update({\"venue_key_shs\": conf_k})\n",
    "                                        else:\n",
    "                                            print(counter, pdict[\"_id\"])\n",
    "                                    found = True\n",
    "                                    break\n",
    "                            if found:\n",
    "                                break\n",
    "\n",
    "    #                     if k in relevant_venue_fields:\n",
    "    #                         venue_stats[k].update([pdict[\"venue\"][k]])\n",
    "                elif \"name_d\" in pdict[\"venue\"]:\n",
    "                    raw_venue_name = pdict[\"venue\"][\"name_d\"].lower()\n",
    "                    found = False\n",
    "\n",
    "                    for conf_k, acrs in jour_title.items():\n",
    "                        for aname in acrs:\n",
    "                            if raw_venue_name == aname.lower().strip():\n",
    "                                if \"_id\" in pdict and pdict[\"_id\"]: \n",
    "                                    if type(pdict[\"_id\"])==str:\n",
    "                                        network_dict[pdict[\"_id\"]] = pdict\n",
    "                                        network_dict[pdict[\"_id\"]].update({\"venue_key_shs\": conf_k})\n",
    "                                    else:\n",
    "                                        print(counter, pdict[\"_id\"])\n",
    "                                found = True\n",
    "                                break\n",
    "                        if found:\n",
    "                            break\n",
    "        except Exception as ex:\n",
    "            print(counter, ex)"
   ]
  },
  {
   "cell_type": "code",
   "execution_count": null,
   "metadata": {},
   "outputs": [],
   "source": []
  },
  {
   "cell_type": "code",
   "execution_count": null,
   "metadata": {},
   "outputs": [],
   "source": []
  },
  {
   "cell_type": "code",
   "execution_count": 16,
   "metadata": {},
   "outputs": [
    {
     "data": {
      "text/plain": [
       "308625"
      ]
     },
     "execution_count": 16,
     "metadata": {},
     "output_type": "execute_result"
    }
   ],
   "source": [
    "# papers in A/A* conferences and journals\n",
    "len(network_dict)"
   ]
  },
  {
   "cell_type": "code",
   "execution_count": 18,
   "metadata": {
    "scrolled": true
   },
   "outputs": [
    {
     "data": {
      "text/plain": [
       "Counter({'_id': 308625,\n",
       "         'abstract': 259031,\n",
       "         'authors': 307629,\n",
       "         'doi': 295262,\n",
       "         'fos': 294399,\n",
       "         'isbn': 257768,\n",
       "         'issn': 250813,\n",
       "         'issue': 275934,\n",
       "         'keywords': 207900,\n",
       "         'lang': 265196,\n",
       "         'n_citation': 282957,\n",
       "         'page_end': 303954,\n",
       "         'page_start': 304545,\n",
       "         'pdf': 269058,\n",
       "         'references': 240972,\n",
       "         'title': 308624,\n",
       "         'url': 303933,\n",
       "         'venue': 308625,\n",
       "         'venue_key_shs': 308625,\n",
       "         'volume': 276927,\n",
       "         'year': 308624})"
      ]
     },
     "execution_count": 18,
     "metadata": {},
     "output_type": "execute_result"
    }
   ],
   "source": [
    "# Count various keys present in the extracted papers\n",
    "\n",
    "key_counter_across_all_papers = Counter()\n",
    "\n",
    "for k,v in network_dict.items():\n",
    "    key_counter_across_all_papers.update(list(v.keys()))\n",
    "\n",
    "key_counter_across_all_papers"
   ]
  },
  {
   "cell_type": "code",
   "execution_count": null,
   "metadata": {},
   "outputs": [],
   "source": []
  },
  {
   "cell_type": "code",
   "execution_count": 21,
   "metadata": {},
   "outputs": [
    {
     "name": "stdout",
     "output_type": "stream",
     "text": [
      "defaultdict(<class 'int'>, {83: 2919, 7: 2416, 24: 6046, 34: 1463, 16: 11286, 25: 5534, 2: 9531, 43: 16426, 3: 5755, 0: 14849, 41: 1740, 45: 7490, 44: 2425, 76: 2347, 56: 937, 68: 513, 31: 8347, 39: 2836, 32: 2029, 70: 1545, 13: 4902, 4: 17787, 27: 4853, 71: 1625, 20: 1062, 14: 7151, 55: 2550, 51: 15509, 46: 5551, 19: 3978, 12: 4670, 8: 2382, 5: 1390, 38: 2063, 37: 6572, 50: 1890, 57: 6525, 40: 6477, 72: 422, 26: 2278, 47: 9658, 11: 5392, 78: 1413, 53: 925, 6: 12875, 18: 2737, 66: 1240, 30: 6103, 35: 536, 61: 612, 75: 3878, 52: 4672, 49: 1227, 60: 299, 54: 1476, 36: 1243, 82: 1534, 28: 1254, 22: 2330, 23: 1590, 1: 5296, 17: 518, 58: 2439, 29: 2600, 10: 1005, 64: 444, 62: 216, 9: 271, 65: 4514, 69: 530, 63: 2230, 77: 1375, 74: 410, 79: 714, 81: 482, 21: 6091, 59: 3144, 67: 1023, 42: 116, 33: 7238, 73: 379, 87: 6, 80: 433, 89: 4, 88: 33, 93: 4, 94: 27, 124: 2, 91: 3, 102: 1, 106: 2, 92: 1, 130: 1, 101: 2, 125: 1, 119: 1, 116: 1, 129: 1, 97: 1, 107: 1})\n"
     ]
    }
   ],
   "source": [
    "final_venue_stats = defaultdict(int)\n",
    "\n",
    "for k, v in network_dict.items():\n",
    "    final_venue_stats[v['venue_key_shs']] += 1\n",
    "    \n",
    "print(final_venue_stats)"
   ]
  },
  {
   "cell_type": "code",
   "execution_count": 22,
   "metadata": {},
   "outputs": [
    {
     "data": {
      "text/plain": [
       "308625"
      ]
     },
     "execution_count": 22,
     "metadata": {},
     "output_type": "execute_result"
    }
   ],
   "source": [
    "sum(final_venue_stats.values())"
   ]
  },
  {
   "cell_type": "code",
   "execution_count": 24,
   "metadata": {
    "scrolled": true
   },
   "outputs": [
    {
     "data": {
      "text/plain": [
       "[(0, 14849),\n",
       " (1, 5296),\n",
       " (2, 9531),\n",
       " (3, 5755),\n",
       " (4, 17787),\n",
       " (5, 1390),\n",
       " (6, 12875),\n",
       " (7, 2416),\n",
       " (8, 2382),\n",
       " (9, 271)]"
      ]
     },
     "execution_count": 24,
     "metadata": {},
     "output_type": "execute_result"
    }
   ],
   "source": [
    "sorted(final_venue_stats.items(), key=lambda x: x[0])[0:10]"
   ]
  },
  {
   "cell_type": "code",
   "execution_count": 62,
   "metadata": {},
   "outputs": [],
   "source": [
    "conf_papers_count = 0\n",
    "journal_papers_count = 0\n",
    "confcount = 0\n",
    "journcount = 0\n",
    "\n",
    "for k, v in final_venue_stats.items():\n",
    "    if k > 83:\n",
    "        journcount += 1\n",
    "        journal_papers_count += v\n",
    "    else:\n",
    "        confcount += 1\n",
    "        conf_papers_count += v"
   ]
  },
  {
   "cell_type": "code",
   "execution_count": 63,
   "metadata": {},
   "outputs": [
    {
     "data": {
      "text/plain": [
       "(308533, 92)"
      ]
     },
     "execution_count": 63,
     "metadata": {},
     "output_type": "execute_result"
    }
   ],
   "source": [
    "conf_papers_count, journal_papers_count"
   ]
  },
  {
   "cell_type": "code",
   "execution_count": 64,
   "metadata": {},
   "outputs": [
    {
     "data": {
      "text/plain": [
       "(82, 18)"
      ]
     },
     "execution_count": 64,
     "metadata": {},
     "output_type": "execute_result"
    }
   ],
   "source": [
    "confcount, journcount"
   ]
  },
  {
   "cell_type": "code",
   "execution_count": null,
   "metadata": {},
   "outputs": [],
   "source": []
  },
  {
   "cell_type": "code",
   "execution_count": 27,
   "metadata": {},
   "outputs": [],
   "source": [
    "nodes = set()\n",
    "\n",
    "for k,v in network_dict.items():\n",
    "    if 'references' in v:\n",
    "        nodes.update([k])\n",
    "        for nb in v['references']:\n",
    "            nodes.update([nb])"
   ]
  },
  {
   "cell_type": "code",
   "execution_count": 28,
   "metadata": {},
   "outputs": [
    {
     "data": {
      "text/plain": [
       "743370"
      ]
     },
     "execution_count": 28,
     "metadata": {},
     "output_type": "execute_result"
    }
   ],
   "source": [
    "len(nodes)"
   ]
  },
  {
   "cell_type": "code",
   "execution_count": 29,
   "metadata": {},
   "outputs": [],
   "source": [
    "edges = defaultdict(list)\n",
    "\n",
    "for k in nodes:\n",
    "    if k in network_dict and 'references' in network_dict[k]:\n",
    "        for i in network_dict[k]['references']:\n",
    "            edges[k].append(i)"
   ]
  },
  {
   "cell_type": "code",
   "execution_count": 30,
   "metadata": {},
   "outputs": [],
   "source": [
    "s = 0\n",
    "for p in edges:\n",
    "    s += len(edges[p])\n",
    "    "
   ]
  },
  {
   "cell_type": "code",
   "execution_count": 31,
   "metadata": {},
   "outputs": [
    {
     "data": {
      "text/plain": [
       "3337053"
      ]
     },
     "execution_count": 31,
     "metadata": {},
     "output_type": "execute_result"
    }
   ],
   "source": [
    "s"
   ]
  },
  {
   "cell_type": "code",
   "execution_count": null,
   "metadata": {},
   "outputs": [],
   "source": []
  },
  {
   "cell_type": "code",
   "execution_count": null,
   "metadata": {},
   "outputs": [],
   "source": []
  },
  {
   "cell_type": "code",
   "execution_count": null,
   "metadata": {},
   "outputs": [],
   "source": []
  },
  {
   "cell_type": "code",
   "execution_count": null,
   "metadata": {},
   "outputs": [],
   "source": []
  },
  {
   "cell_type": "code",
   "execution_count": null,
   "metadata": {},
   "outputs": [],
   "source": []
  },
  {
   "cell_type": "code",
   "execution_count": 11,
   "metadata": {},
   "outputs": [
    {
     "data": {
      "text/plain": [
       "str"
      ]
     },
     "execution_count": 11,
     "metadata": {},
     "output_type": "execute_result"
    }
   ],
   "source": [
    "type(pdict[\"_id\"])"
   ]
  },
  {
   "cell_type": "code",
   "execution_count": 12,
   "metadata": {},
   "outputs": [
    {
     "data": {
      "text/plain": [
       "'6087e112e4510cd7c80b912d'"
      ]
     },
     "execution_count": 12,
     "metadata": {},
     "output_type": "execute_result"
    }
   ],
   "source": [
    "pdict[\"_id\"]"
   ]
  },
  {
   "cell_type": "code",
   "execution_count": 5,
   "metadata": {},
   "outputs": [],
   "source": [
    "all_keys = Counter()\n",
    "\n",
    "for k,v in network_dict.items():\n",
    "    all_keys.update(list(v.keys()))"
   ]
  },
  {
   "cell_type": "code",
   "execution_count": 15,
   "metadata": {},
   "outputs": [
    {
     "data": {
      "text/plain": [
       "Counter({'_id': 139646,\n",
       "         'abstract': 105646,\n",
       "         'authors': 139245,\n",
       "         'doi': 130096,\n",
       "         'fos': 134800,\n",
       "         'isbn': 108798,\n",
       "         'issn': 109799,\n",
       "         'issue': 120930,\n",
       "         'keywords': 86308,\n",
       "         'lang': 114815,\n",
       "         'n_citation': 125952,\n",
       "         'page_end': 136454,\n",
       "         'page_start': 136539,\n",
       "         'pdf': 126250,\n",
       "         'references': 112114,\n",
       "         'title': 139643,\n",
       "         'url': 137014,\n",
       "         'venue': 139646,\n",
       "         'volume': 123132,\n",
       "         'year': 139646})"
      ]
     },
     "execution_count": 15,
     "metadata": {},
     "output_type": "execute_result"
    }
   ],
   "source": [
    "all_keys"
   ]
  },
  {
   "cell_type": "code",
   "execution_count": 6,
   "metadata": {},
   "outputs": [],
   "source": [
    "nodes = set()\n",
    "\n",
    "\n",
    "for k,v in network_dict.items():\n",
    "    if 'references' in v:\n",
    "        nodes.update([k])\n",
    "        for nb in v['references']:\n",
    "            nodes.update([nb])"
   ]
  },
  {
   "cell_type": "code",
   "execution_count": 7,
   "metadata": {},
   "outputs": [
    {
     "data": {
      "text/plain": [
       "746776"
      ]
     },
     "execution_count": 7,
     "metadata": {},
     "output_type": "execute_result"
    }
   ],
   "source": [
    "len(nodes)"
   ]
  },
  {
   "cell_type": "code",
   "execution_count": 9,
   "metadata": {},
   "outputs": [],
   "source": [
    "from collections import defaultdict"
   ]
  },
  {
   "cell_type": "code",
   "execution_count": 10,
   "metadata": {},
   "outputs": [],
   "source": [
    "edges = defaultdict(list)\n",
    "\n",
    "for k in nodes:\n",
    "    if k in network_dict and 'references' in network_dict[k]:\n",
    "        for i in network_dict[k]['references']:\n",
    "            edges[k].append(i)"
   ]
  },
  {
   "cell_type": "code",
   "execution_count": 21,
   "metadata": {},
   "outputs": [],
   "source": [
    "from collections import defaultdict"
   ]
  },
  {
   "cell_type": "code",
   "execution_count": 11,
   "metadata": {},
   "outputs": [],
   "source": [
    "s = 0\n",
    "for p in edges:\n",
    "    s += len(edges[p])"
   ]
  },
  {
   "cell_type": "code",
   "execution_count": 12,
   "metadata": {},
   "outputs": [
    {
     "data": {
      "text/plain": [
       "3345041"
      ]
     },
     "execution_count": 12,
     "metadata": {},
     "output_type": "execute_result"
    }
   ],
   "source": [
    "s"
   ]
  },
  {
   "cell_type": "markdown",
   "metadata": {},
   "source": [
    "# Old data stats\n",
    "nodes 360 thousand\n",
    "edges 1 million 664 thousand\n",
    "1762 ccomps\n",
    "354589 - 355 thousand "
   ]
  },
  {
   "cell_type": "code",
   "execution_count": null,
   "metadata": {},
   "outputs": [],
   "source": []
  },
  {
   "cell_type": "code",
   "execution_count": null,
   "metadata": {},
   "outputs": [],
   "source": []
  },
  {
   "cell_type": "markdown",
   "metadata": {},
   "source": [
    "# New data stats"
   ]
  },
  {
   "cell_type": "code",
   "execution_count": 32,
   "metadata": {},
   "outputs": [],
   "source": [
    "import networkx as nx\n",
    "G = nx.Graph()"
   ]
  },
  {
   "cell_type": "code",
   "execution_count": 33,
   "metadata": {},
   "outputs": [],
   "source": [
    "G.add_nodes_from(list(nodes))"
   ]
  },
  {
   "cell_type": "code",
   "execution_count": 34,
   "metadata": {},
   "outputs": [],
   "source": [
    "edges_list = []\n",
    "for i in edges:\n",
    "    for k in edges[i]:\n",
    "        edges_list.append((i, k))"
   ]
  },
  {
   "cell_type": "code",
   "execution_count": null,
   "metadata": {},
   "outputs": [],
   "source": []
  },
  {
   "cell_type": "code",
   "execution_count": 35,
   "metadata": {},
   "outputs": [],
   "source": [
    "G.add_edges_from(edges_list)"
   ]
  },
  {
   "cell_type": "code",
   "execution_count": 36,
   "metadata": {},
   "outputs": [],
   "source": [
    "cc = list(nx.connected_components(G))"
   ]
  },
  {
   "cell_type": "code",
   "execution_count": 43,
   "metadata": {},
   "outputs": [],
   "source": [
    "len_cc = []\n",
    "for x in cc:\n",
    "    len_cc.append(len(x))"
   ]
  },
  {
   "cell_type": "code",
   "execution_count": 46,
   "metadata": {},
   "outputs": [
    {
     "data": {
      "text/plain": [
       "743370"
      ]
     },
     "execution_count": 46,
     "metadata": {},
     "output_type": "execute_result"
    }
   ],
   "source": [
    "sum(len_cc)"
   ]
  },
  {
   "cell_type": "code",
   "execution_count": 47,
   "metadata": {},
   "outputs": [],
   "source": [
    "scc = sorted(len_cc, reverse=True)"
   ]
  },
  {
   "cell_type": "code",
   "execution_count": 49,
   "metadata": {},
   "outputs": [
    {
     "data": {
      "text/plain": [
       "(3178, 733701, [733701, 31, 28, 20, 19])"
      ]
     },
     "execution_count": 49,
     "metadata": {},
     "output_type": "execute_result"
    }
   ],
   "source": [
    "len(cc), len(cc[0]), scc[0:5]"
   ]
  },
  {
   "cell_type": "code",
   "execution_count": null,
   "metadata": {},
   "outputs": [],
   "source": []
  },
  {
   "cell_type": "code",
   "execution_count": 50,
   "metadata": {},
   "outputs": [],
   "source": [
    "from networkx.algorithms import community"
   ]
  },
  {
   "cell_type": "code",
   "execution_count": 51,
   "metadata": {},
   "outputs": [
    {
     "data": {
      "text/plain": [
       "'Name: \\nType: Graph\\nNumber of nodes: 743370\\nNumber of edges: 3329496\\nAverage degree:   8.9578'"
      ]
     },
     "execution_count": 51,
     "metadata": {},
     "output_type": "execute_result"
    }
   ],
   "source": [
    "nx.info(G)"
   ]
  },
  {
   "cell_type": "code",
   "execution_count": null,
   "metadata": {},
   "outputs": [],
   "source": []
  },
  {
   "cell_type": "code",
   "execution_count": null,
   "metadata": {},
   "outputs": [],
   "source": []
  },
  {
   "cell_type": "code",
   "execution_count": null,
   "metadata": {},
   "outputs": [],
   "source": []
  },
  {
   "cell_type": "markdown",
   "metadata": {},
   "source": [
    "## Directed Graph Statistics"
   ]
  },
  {
   "cell_type": "code",
   "execution_count": 56,
   "metadata": {},
   "outputs": [],
   "source": [
    "DG = nx.DiGraph(directed=True)"
   ]
  },
  {
   "cell_type": "code",
   "execution_count": 57,
   "metadata": {},
   "outputs": [],
   "source": [
    "DG.add_nodes_from(list(nodes))"
   ]
  },
  {
   "cell_type": "code",
   "execution_count": 58,
   "metadata": {},
   "outputs": [],
   "source": [
    "DG.add_edges_from(edges_list)"
   ]
  },
  {
   "cell_type": "code",
   "execution_count": 59,
   "metadata": {},
   "outputs": [
    {
     "data": {
      "text/plain": [
       "'Name: \\nType: DiGraph\\nNumber of nodes: 743370\\nNumber of edges: 3333025\\nAverage in degree:   4.4837\\nAverage out degree:   4.4837'"
      ]
     },
     "execution_count": 59,
     "metadata": {},
     "output_type": "execute_result"
    }
   ],
   "source": [
    "nx.info(DG)"
   ]
  },
  {
   "cell_type": "code",
   "execution_count": 61,
   "metadata": {},
   "outputs": [
    {
     "ename": "IndexError",
     "evalue": "list index out of range",
     "output_type": "error",
     "traceback": [
      "\u001b[0;31m---------------------------------------------------------------------------\u001b[0m",
      "\u001b[0;31mIndexError\u001b[0m                                Traceback (most recent call last)",
      "\u001b[0;32m<ipython-input-61-939df765148c>\u001b[0m in \u001b[0;36m<module>\u001b[0;34m()\u001b[0m\n\u001b[0;32m----> 1\u001b[0;31m \u001b[0mcommunities\u001b[0m \u001b[0;34m=\u001b[0m \u001b[0mcommunity\u001b[0m\u001b[0;34m.\u001b[0m\u001b[0mgreedy_modularity_communities\u001b[0m\u001b[0;34m(\u001b[0m\u001b[0mDG\u001b[0m\u001b[0;34m)\u001b[0m\u001b[0;34m\u001b[0m\u001b[0;34m\u001b[0m\u001b[0m\n\u001b[0m",
      "\u001b[0;32m/home/singh_shruti/.local/lib/python3.6/site-packages/networkx/algorithms/community/modularity_max.py\u001b[0m in \u001b[0;36mgreedy_modularity_communities\u001b[0;34m(G, weight)\u001b[0m\n\u001b[1;32m    108\u001b[0m         \u001b[0;31m# If this element was also at the root of row j, we need to remove the\u001b[0m\u001b[0;34m\u001b[0m\u001b[0;34m\u001b[0m\u001b[0;34m\u001b[0m\u001b[0m\n\u001b[1;32m    109\u001b[0m         \u001b[0;31m# duplicate entry from H\u001b[0m\u001b[0;34m\u001b[0m\u001b[0;34m\u001b[0m\u001b[0;34m\u001b[0m\u001b[0m\n\u001b[0;32m--> 110\u001b[0;31m         \u001b[0;32mif\u001b[0m \u001b[0mdq_heap\u001b[0m\u001b[0;34m[\u001b[0m\u001b[0mj\u001b[0m\u001b[0;34m]\u001b[0m\u001b[0;34m.\u001b[0m\u001b[0mh\u001b[0m\u001b[0;34m[\u001b[0m\u001b[0;36m0\u001b[0m\u001b[0;34m]\u001b[0m \u001b[0;34m==\u001b[0m \u001b[0;34m(\u001b[0m\u001b[0;34m-\u001b[0m\u001b[0mdq\u001b[0m\u001b[0;34m,\u001b[0m \u001b[0mj\u001b[0m\u001b[0;34m,\u001b[0m \u001b[0mi\u001b[0m\u001b[0;34m)\u001b[0m\u001b[0;34m:\u001b[0m\u001b[0;34m\u001b[0m\u001b[0;34m\u001b[0m\u001b[0m\n\u001b[0m\u001b[1;32m    111\u001b[0m             \u001b[0mH\u001b[0m\u001b[0;34m.\u001b[0m\u001b[0mremove\u001b[0m\u001b[0;34m(\u001b[0m\u001b[0;34m(\u001b[0m\u001b[0;34m-\u001b[0m\u001b[0mdq\u001b[0m\u001b[0;34m,\u001b[0m \u001b[0mj\u001b[0m\u001b[0;34m,\u001b[0m \u001b[0mi\u001b[0m\u001b[0;34m)\u001b[0m\u001b[0;34m)\u001b[0m\u001b[0;34m\u001b[0m\u001b[0;34m\u001b[0m\u001b[0m\n\u001b[1;32m    112\u001b[0m             \u001b[0;31m# Remove best merge from row j heap\u001b[0m\u001b[0;34m\u001b[0m\u001b[0;34m\u001b[0m\u001b[0;34m\u001b[0m\u001b[0m\n",
      "\u001b[0;31mIndexError\u001b[0m: list index out of range"
     ]
    }
   ],
   "source": [
    "communities = community.greedy_modularity_communities(DG)"
   ]
  },
  {
   "cell_type": "code",
   "execution_count": null,
   "metadata": {},
   "outputs": [],
   "source": []
  },
  {
   "cell_type": "code",
   "execution_count": null,
   "metadata": {},
   "outputs": [],
   "source": []
  },
  {
   "cell_type": "code",
   "execution_count": null,
   "metadata": {},
   "outputs": [],
   "source": []
  },
  {
   "cell_type": "code",
   "execution_count": null,
   "metadata": {},
   "outputs": [],
   "source": []
  },
  {
   "cell_type": "markdown",
   "metadata": {},
   "source": [
    "# Save network dictionary"
   ]
  },
  {
   "cell_type": "code",
   "execution_count": 66,
   "metadata": {},
   "outputs": [],
   "source": [
    "with open('data/network_dict.pkl', 'wb') as f:\n",
    "    pickle.dump(network_dict, f)"
   ]
  },
  {
   "cell_type": "code",
   "execution_count": null,
   "metadata": {},
   "outputs": [],
   "source": []
  }
 ],
 "metadata": {
  "kernelspec": {
   "display_name": "Python 3",
   "language": "python",
   "name": "python3"
  },
  "language_info": {
   "codemirror_mode": {
    "name": "ipython",
    "version": 3
   },
   "file_extension": ".py",
   "mimetype": "text/x-python",
   "name": "python",
   "nbconvert_exporter": "python",
   "pygments_lexer": "ipython3",
   "version": "3.6.8"
  }
 },
 "nbformat": 4,
 "nbformat_minor": 2
}
