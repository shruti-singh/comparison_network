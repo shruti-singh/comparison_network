{
 "cells": [
  {
   "cell_type": "code",
   "execution_count": 20,
   "metadata": {},
   "outputs": [],
   "source": [
    "import fileinput\n",
    "import json\n",
    "import ast\n",
    "from collections import Counter, defaultdict\n",
    "import pickle\n",
    "import re\n",
    "from fuzzywuzzy import fuzz"
   ]
  },
  {
   "cell_type": "code",
   "execution_count": null,
   "metadata": {},
   "outputs": [],
   "source": []
  },
  {
   "cell_type": "code",
   "execution_count": 2,
   "metadata": {},
   "outputs": [],
   "source": [
    "with open('utils/conf_acr_dict.pkl', 'rb') as f:\n",
    "    conf_acr = pickle.load(f)\n",
    "    \n",
    "with open('utils/conf_title_dict.pkl', 'rb') as f:\n",
    "    conf_title = pickle.load(f)\n",
    "    \n",
    "with open('utils/jour_title_dict.pkl', 'rb') as f:\n",
    "    jour_title = pickle.load(f)"
   ]
  },
  {
   "cell_type": "code",
   "execution_count": 3,
   "metadata": {},
   "outputs": [
    {
     "data": {
      "text/plain": [
       "<_sre.SRE_Match object; span=(6, 10), match='NIPS'>"
      ]
     },
     "execution_count": 3,
     "metadata": {},
     "output_type": "execute_result"
    }
   ],
   "source": [
    "re_search = '\\b'+'NIPS'+'\\b'\n",
    "x = re.search(r'\\bNIPS\\b', 'MLINI@NIPS')\n",
    "x"
   ]
  },
  {
   "cell_type": "code",
   "execution_count": 4,
   "metadata": {},
   "outputs": [
    {
     "data": {
      "text/plain": [
       "<_sre.SRE_Match object; span=(6, 10), match='NIPS'>"
      ]
     },
     "execution_count": 4,
     "metadata": {},
     "output_type": "execute_result"
    }
   ],
   "source": [
    "re_search = '\\b'+'NIPS'+'\\b'\n",
    "x = re.search(r'\\b'+'NIPS'+r'\\b', 'MLINI@NIPS')\n",
    "x"
   ]
  },
  {
   "cell_type": "code",
   "execution_count": 10,
   "metadata": {},
   "outputs": [
    {
     "name": "stdout",
     "output_type": "stream",
     "text": [
      "23360 'NoneType' object has no attribute 'lower'\n",
      "55666 'NoneType' object has no attribute 'lower'\n",
      "166073 'NoneType' object has no attribute 'lower'\n",
      "178102 'NoneType' object has no attribute 'lower'\n",
      "245849 'NoneType' object has no attribute 'lower'\n",
      "252246 'NoneType' object has no attribute 'lower'\n",
      "293005 'NoneType' object has no attribute 'lower'\n",
      "299016 'NoneType' object has no attribute 'lower'\n",
      "353570 'NoneType' object has no attribute 'lower'\n",
      "356247 'NoneType' object has no attribute 'lower'\n",
      "381899 'NoneType' object has no attribute 'lower'\n",
      "500000\n",
      "563135 'NoneType' object has no attribute 'lower'\n",
      "629600 'NoneType' object has no attribute 'lower'\n",
      "794186 'NoneType' object has no attribute 'lower'\n",
      "846895 'NoneType' object has no attribute 'lower'\n",
      "867795 'NoneType' object has no attribute 'lower'\n",
      "897671 'NoneType' object has no attribute 'lower'\n",
      "907247 'NoneType' object has no attribute 'lower'\n",
      "943031 'NoneType' object has no attribute 'lower'\n",
      "1000000\n",
      "1029643 'NoneType' object has no attribute 'lower'\n",
      "1197983 'NoneType' object has no attribute 'lower'\n",
      "1305548 'NoneType' object has no attribute 'lower'\n",
      "1310482 'NoneType' object has no attribute 'lower'\n",
      "1338672 'NoneType' object has no attribute 'lower'\n",
      "1500000\n",
      "1531220 'NoneType' object has no attribute 'lower'\n",
      "1541434 'NoneType' object has no attribute 'lower'\n",
      "1554370 'NoneType' object has no attribute 'lower'\n",
      "1609247 'NoneType' object has no attribute 'lower'\n",
      "1658269 'NoneType' object has no attribute 'lower'\n",
      "1713145 'NoneType' object has no attribute 'lower'\n",
      "1874273 'NoneType' object has no attribute 'lower'\n",
      "1879976 'NoneType' object has no attribute 'lower'\n",
      "1945268 'NoneType' object has no attribute 'lower'\n",
      "2000000\n",
      "2021123 'NoneType' object has no attribute 'lower'\n",
      "2149686 'NoneType' object has no attribute 'lower'\n",
      "2290131 'NoneType' object has no attribute 'lower'\n",
      "2405176 'NoneType' object has no attribute 'lower'\n",
      "2457778 'NoneType' object has no attribute 'lower'\n",
      "2485408 'NoneType' object has no attribute 'lower'\n",
      "2500000\n",
      "3000000\n",
      "3134682 'NoneType' object has no attribute 'lower'\n",
      "3134760 'NoneType' object has no attribute 'lower'\n",
      "3135665 'NoneType' object has no attribute 'lower'\n",
      "3135979 'NoneType' object has no attribute 'lower'\n",
      "3136020 'NoneType' object has no attribute 'lower'\n",
      "3137502 'NoneType' object has no attribute 'lower'\n",
      "3137676 'NoneType' object has no attribute 'lower'\n",
      "3137825 'NoneType' object has no attribute 'lower'\n",
      "3137865 'NoneType' object has no attribute 'lower'\n",
      "3138092 'NoneType' object has no attribute 'lower'\n",
      "3138115 'NoneType' object has no attribute 'lower'\n",
      "3138227 'NoneType' object has no attribute 'lower'\n",
      "3138986 'NoneType' object has no attribute 'lower'\n",
      "3139320 'NoneType' object has no attribute 'lower'\n",
      "3139426 'NoneType' object has no attribute 'lower'\n",
      "3139484 'NoneType' object has no attribute 'lower'\n",
      "3139488 'NoneType' object has no attribute 'lower'\n",
      "3139698 'NoneType' object has no attribute 'lower'\n",
      "3139936 'NoneType' object has no attribute 'lower'\n",
      "3140201 'NoneType' object has no attribute 'lower'\n",
      "3140417 'NoneType' object has no attribute 'lower'\n",
      "3140876 'NoneType' object has no attribute 'lower'\n",
      "3140947 'NoneType' object has no attribute 'lower'\n",
      "3141117 'NoneType' object has no attribute 'lower'\n",
      "3141447 'NoneType' object has no attribute 'lower'\n",
      "3141597 'NoneType' object has no attribute 'lower'\n",
      "3141696 'NoneType' object has no attribute 'lower'\n",
      "3142248 'NoneType' object has no attribute 'lower'\n",
      "3142552 'NoneType' object has no attribute 'lower'\n",
      "3143024 'NoneType' object has no attribute 'lower'\n",
      "3143055 'NoneType' object has no attribute 'lower'\n",
      "3143689 'NoneType' object has no attribute 'lower'\n",
      "3143997 'NoneType' object has no attribute 'lower'\n",
      "3144524 'NoneType' object has no attribute 'lower'\n",
      "3145156 'NoneType' object has no attribute 'lower'\n",
      "3146818 'NoneType' object has no attribute 'lower'\n",
      "3146856 'NoneType' object has no attribute 'lower'\n",
      "3147540 'NoneType' object has no attribute 'lower'\n",
      "3147768 'NoneType' object has no attribute 'lower'\n",
      "3147881 'NoneType' object has no attribute 'lower'\n",
      "3148021 'NoneType' object has no attribute 'lower'\n",
      "3148499 'NoneType' object has no attribute 'lower'\n",
      "3148710 'NoneType' object has no attribute 'lower'\n",
      "3148805 'NoneType' object has no attribute 'lower'\n",
      "3148985 'NoneType' object has no attribute 'lower'\n",
      "3149294 'NoneType' object has no attribute 'lower'\n",
      "3149474 'NoneType' object has no attribute 'lower'\n",
      "3149603 'NoneType' object has no attribute 'lower'\n",
      "3150473 'NoneType' object has no attribute 'lower'\n",
      "3150483 'NoneType' object has no attribute 'lower'\n",
      "3150738 'NoneType' object has no attribute 'lower'\n",
      "3151219 'NoneType' object has no attribute 'lower'\n",
      "3151964 'NoneType' object has no attribute 'lower'\n",
      "3152330 'NoneType' object has no attribute 'lower'\n",
      "3153415 'NoneType' object has no attribute 'lower'\n",
      "3153723 'NoneType' object has no attribute 'lower'\n",
      "3154060 'NoneType' object has no attribute 'lower'\n",
      "3154066 'NoneType' object has no attribute 'lower'\n",
      "3155183 'NoneType' object has no attribute 'lower'\n",
      "3156063 'NoneType' object has no attribute 'lower'\n",
      "3156144 'NoneType' object has no attribute 'lower'\n",
      "3156181 'NoneType' object has no attribute 'lower'\n",
      "3156297 'NoneType' object has no attribute 'lower'\n",
      "3156381 'NoneType' object has no attribute 'lower'\n",
      "3156943 'NoneType' object has no attribute 'lower'\n",
      "3157376 'NoneType' object has no attribute 'lower'\n",
      "3157816 'NoneType' object has no attribute 'lower'\n",
      "3158199 'NoneType' object has no attribute 'lower'\n",
      "3158588 'NoneType' object has no attribute 'lower'\n",
      "3158610 'NoneType' object has no attribute 'lower'\n",
      "3158721 'NoneType' object has no attribute 'lower'\n",
      "3158857 'NoneType' object has no attribute 'lower'\n",
      "3159062 'NoneType' object has no attribute 'lower'\n",
      "3159220 'NoneType' object has no attribute 'lower'\n",
      "3159524 'NoneType' object has no attribute 'lower'\n",
      "3159895 'NoneType' object has no attribute 'lower'\n",
      "3160139 'NoneType' object has no attribute 'lower'\n",
      "3160344 'NoneType' object has no attribute 'lower'\n",
      "3160588 'NoneType' object has no attribute 'lower'\n",
      "3160627 'NoneType' object has no attribute 'lower'\n",
      "3160832 'NoneType' object has no attribute 'lower'\n",
      "3162212 'NoneType' object has no attribute 'lower'\n",
      "3163125 'NoneType' object has no attribute 'lower'\n",
      "3163149 'NoneType' object has no attribute 'lower'\n",
      "3163377 'NoneType' object has no attribute 'lower'\n",
      "3163386 'NoneType' object has no attribute 'lower'\n",
      "3163694 'NoneType' object has no attribute 'lower'\n",
      "3163822 'NoneType' object has no attribute 'lower'\n",
      "3163869 'NoneType' object has no attribute 'lower'\n",
      "3164080 'NoneType' object has no attribute 'lower'\n",
      "3164276 'NoneType' object has no attribute 'lower'\n",
      "3164338 'NoneType' object has no attribute 'lower'\n",
      "3164820 'NoneType' object has no attribute 'lower'\n",
      "3164925 'NoneType' object has no attribute 'lower'\n",
      "3165745 'NoneType' object has no attribute 'lower'\n",
      "3166060 'NoneType' object has no attribute 'lower'\n",
      "3166138 'NoneType' object has no attribute 'lower'\n",
      "3166295 'NoneType' object has no attribute 'lower'\n",
      "3166534 'NoneType' object has no attribute 'lower'\n",
      "3167055 'NoneType' object has no attribute 'lower'\n",
      "3167081 'NoneType' object has no attribute 'lower'\n",
      "3167119 'NoneType' object has no attribute 'lower'\n",
      "3168064 'NoneType' object has no attribute 'lower'\n",
      "3168676 'NoneType' object has no attribute 'lower'\n",
      "3168697 'NoneType' object has no attribute 'lower'\n",
      "3169024 'NoneType' object has no attribute 'lower'\n",
      "3169212 'NoneType' object has no attribute 'lower'\n",
      "3169339 'NoneType' object has no attribute 'lower'\n",
      "3169451 'NoneType' object has no attribute 'lower'\n",
      "3169663 'NoneType' object has no attribute 'lower'\n",
      "3169882 'NoneType' object has no attribute 'lower'\n",
      "3169951 'NoneType' object has no attribute 'lower'\n",
      "3170177 'NoneType' object has no attribute 'lower'\n",
      "3170341 'NoneType' object has no attribute 'lower'\n",
      "3170359 'NoneType' object has no attribute 'lower'\n",
      "3171052 'NoneType' object has no attribute 'lower'\n",
      "3172256 'NoneType' object has no attribute 'lower'\n",
      "3172467 'NoneType' object has no attribute 'lower'\n",
      "3172934 'NoneType' object has no attribute 'lower'\n",
      "3173107 'NoneType' object has no attribute 'lower'\n",
      "3173110 'NoneType' object has no attribute 'lower'\n",
      "3173183 'NoneType' object has no attribute 'lower'\n",
      "3173392 'NoneType' object has no attribute 'lower'\n",
      "3173669 'NoneType' object has no attribute 'lower'\n",
      "3173806 'NoneType' object has no attribute 'lower'\n",
      "3173923 'NoneType' object has no attribute 'lower'\n",
      "3174603 'NoneType' object has no attribute 'lower'\n",
      "3174761 'NoneType' object has no attribute 'lower'\n",
      "3174820 'NoneType' object has no attribute 'lower'\n",
      "3174945 'NoneType' object has no attribute 'lower'\n",
      "3175044 'NoneType' object has no attribute 'lower'\n",
      "3175191 'NoneType' object has no attribute 'lower'\n"
     ]
    },
    {
     "name": "stdout",
     "output_type": "stream",
     "text": [
      "3175192 'NoneType' object has no attribute 'lower'\n",
      "3175487 'NoneType' object has no attribute 'lower'\n",
      "3175623 'NoneType' object has no attribute 'lower'\n",
      "3175687 'NoneType' object has no attribute 'lower'\n",
      "3175747 'NoneType' object has no attribute 'lower'\n",
      "3175998 'NoneType' object has no attribute 'lower'\n",
      "3176345 'NoneType' object has no attribute 'lower'\n",
      "3176582 'NoneType' object has no attribute 'lower'\n",
      "3177843 'NoneType' object has no attribute 'lower'\n",
      "3177975 'NoneType' object has no attribute 'lower'\n",
      "3178210 'NoneType' object has no attribute 'lower'\n",
      "3178445 'NoneType' object has no attribute 'lower'\n",
      "3178684 'NoneType' object has no attribute 'lower'\n",
      "3178836 'NoneType' object has no attribute 'lower'\n",
      "3178886 'NoneType' object has no attribute 'lower'\n",
      "3179196 'NoneType' object has no attribute 'lower'\n",
      "3179210 'NoneType' object has no attribute 'lower'\n",
      "3179290 'NoneType' object has no attribute 'lower'\n",
      "3179520 'NoneType' object has no attribute 'lower'\n",
      "3180691 'NoneType' object has no attribute 'lower'\n",
      "3181300 'NoneType' object has no attribute 'lower'\n",
      "3181386 'NoneType' object has no attribute 'lower'\n",
      "3181720 'NoneType' object has no attribute 'lower'\n",
      "3181841 'NoneType' object has no attribute 'lower'\n",
      "3182196 'NoneType' object has no attribute 'lower'\n",
      "3182378 'NoneType' object has no attribute 'lower'\n",
      "3182384 'NoneType' object has no attribute 'lower'\n",
      "3182569 'NoneType' object has no attribute 'lower'\n",
      "3182700 'NoneType' object has no attribute 'lower'\n",
      "3183083 'NoneType' object has no attribute 'lower'\n",
      "3184080 'NoneType' object has no attribute 'lower'\n",
      "3184511 'NoneType' object has no attribute 'lower'\n",
      "3184950 'NoneType' object has no attribute 'lower'\n",
      "3185157 'NoneType' object has no attribute 'lower'\n",
      "3185360 'NoneType' object has no attribute 'lower'\n",
      "3186692 'NoneType' object has no attribute 'lower'\n",
      "3187269 'NoneType' object has no attribute 'lower'\n",
      "3187349 'NoneType' object has no attribute 'lower'\n",
      "3187548 'NoneType' object has no attribute 'lower'\n",
      "3187726 'NoneType' object has no attribute 'lower'\n",
      "3187858 'NoneType' object has no attribute 'lower'\n",
      "3187894 'NoneType' object has no attribute 'lower'\n",
      "3188155 'NoneType' object has no attribute 'lower'\n",
      "3188393 'NoneType' object has no attribute 'lower'\n",
      "3188754 'NoneType' object has no attribute 'lower'\n",
      "3188783 'NoneType' object has no attribute 'lower'\n",
      "3188884 'NoneType' object has no attribute 'lower'\n",
      "3188957 'NoneType' object has no attribute 'lower'\n",
      "3189138 'NoneType' object has no attribute 'lower'\n",
      "3189298 'NoneType' object has no attribute 'lower'\n",
      "3189326 'NoneType' object has no attribute 'lower'\n",
      "3190118 'NoneType' object has no attribute 'lower'\n",
      "3190269 'NoneType' object has no attribute 'lower'\n",
      "3190494 'NoneType' object has no attribute 'lower'\n",
      "3191145 'NoneType' object has no attribute 'lower'\n",
      "3191311 'NoneType' object has no attribute 'lower'\n",
      "3192773 'NoneType' object has no attribute 'lower'\n",
      "3192967 'NoneType' object has no attribute 'lower'\n",
      "3193187 'NoneType' object has no attribute 'lower'\n",
      "3193520 'NoneType' object has no attribute 'lower'\n",
      "3193711 'NoneType' object has no attribute 'lower'\n",
      "3194367 'NoneType' object has no attribute 'lower'\n",
      "3194738 'NoneType' object has no attribute 'lower'\n",
      "3194979 'NoneType' object has no attribute 'lower'\n",
      "3195010 'NoneType' object has no attribute 'lower'\n",
      "3195507 'NoneType' object has no attribute 'lower'\n",
      "3195734 'NoneType' object has no attribute 'lower'\n",
      "3196060 'NoneType' object has no attribute 'lower'\n",
      "3196320 'NoneType' object has no attribute 'lower'\n",
      "3196477 'NoneType' object has no attribute 'lower'\n",
      "3196781 'NoneType' object has no attribute 'lower'\n",
      "3196874 'NoneType' object has no attribute 'lower'\n",
      "3196947 'NoneType' object has no attribute 'lower'\n",
      "3197088 'NoneType' object has no attribute 'lower'\n",
      "3197461 'NoneType' object has no attribute 'lower'\n",
      "3197531 'NoneType' object has no attribute 'lower'\n",
      "3197915 'NoneType' object has no attribute 'lower'\n",
      "3198066 'NoneType' object has no attribute 'lower'\n",
      "3198451 'NoneType' object has no attribute 'lower'\n",
      "3198531 'NoneType' object has no attribute 'lower'\n",
      "3198927 'NoneType' object has no attribute 'lower'\n",
      "3200762 'NoneType' object has no attribute 'lower'\n",
      "3201162 'NoneType' object has no attribute 'lower'\n",
      "3201396 'NoneType' object has no attribute 'lower'\n",
      "3202054 'NoneType' object has no attribute 'lower'\n",
      "3202699 'NoneType' object has no attribute 'lower'\n",
      "3203297 'NoneType' object has no attribute 'lower'\n",
      "3203947 'NoneType' object has no attribute 'lower'\n",
      "3204964 'NoneType' object has no attribute 'lower'\n",
      "3204989 'NoneType' object has no attribute 'lower'\n",
      "3204991 'NoneType' object has no attribute 'lower'\n",
      "3205547 'NoneType' object has no attribute 'lower'\n",
      "3205747 'NoneType' object has no attribute 'lower'\n",
      "3205780 'NoneType' object has no attribute 'lower'\n",
      "3206042 'NoneType' object has no attribute 'lower'\n",
      "3206053 'NoneType' object has no attribute 'lower'\n",
      "3206816 'NoneType' object has no attribute 'lower'\n",
      "3206898 'NoneType' object has no attribute 'lower'\n",
      "3206927 'NoneType' object has no attribute 'lower'\n",
      "3206971 'NoneType' object has no attribute 'lower'\n",
      "3207171 'NoneType' object has no attribute 'lower'\n",
      "3207245 'NoneType' object has no attribute 'lower'\n",
      "3207255 'NoneType' object has no attribute 'lower'\n",
      "3207338 'NoneType' object has no attribute 'lower'\n",
      "3207602 'NoneType' object has no attribute 'lower'\n",
      "3208532 'NoneType' object has no attribute 'lower'\n",
      "3210069 'NoneType' object has no attribute 'lower'\n",
      "3210278 'NoneType' object has no attribute 'lower'\n",
      "3210294 'NoneType' object has no attribute 'lower'\n",
      "3210766 'NoneType' object has no attribute 'lower'\n",
      "3211424 'NoneType' object has no attribute 'lower'\n",
      "3211584 'NoneType' object has no attribute 'lower'\n",
      "3211688 'NoneType' object has no attribute 'lower'\n",
      "3211769 'NoneType' object has no attribute 'lower'\n",
      "3211895 'NoneType' object has no attribute 'lower'\n",
      "3212161 'NoneType' object has no attribute 'lower'\n",
      "3212654 'NoneType' object has no attribute 'lower'\n",
      "3213019 'NoneType' object has no attribute 'lower'\n",
      "3213139 'NoneType' object has no attribute 'lower'\n",
      "3213307 'NoneType' object has no attribute 'lower'\n",
      "3213440 'NoneType' object has no attribute 'lower'\n",
      "3213488 'NoneType' object has no attribute 'lower'\n",
      "3213990 'NoneType' object has no attribute 'lower'\n",
      "3214137 'NoneType' object has no attribute 'lower'\n",
      "3214452 'NoneType' object has no attribute 'lower'\n",
      "3214791 'NoneType' object has no attribute 'lower'\n",
      "3214795 'NoneType' object has no attribute 'lower'\n",
      "3215266 'NoneType' object has no attribute 'lower'\n",
      "3215384 'NoneType' object has no attribute 'lower'\n",
      "3215431 'NoneType' object has no attribute 'lower'\n",
      "3215446 'NoneType' object has no attribute 'lower'\n",
      "3215537 'NoneType' object has no attribute 'lower'\n",
      "3215640 'NoneType' object has no attribute 'lower'\n",
      "3216680 'NoneType' object has no attribute 'lower'\n",
      "3217041 'NoneType' object has no attribute 'lower'\n",
      "3217161 'NoneType' object has no attribute 'lower'\n",
      "3217606 'NoneType' object has no attribute 'lower'\n",
      "3217996 'NoneType' object has no attribute 'lower'\n",
      "3218291 'NoneType' object has no attribute 'lower'\n",
      "3219057 'NoneType' object has no attribute 'lower'\n",
      "3219585 'NoneType' object has no attribute 'lower'\n",
      "3219897 'NoneType' object has no attribute 'lower'\n",
      "3220144 'NoneType' object has no attribute 'lower'\n",
      "3220277 'NoneType' object has no attribute 'lower'\n",
      "3220386 'NoneType' object has no attribute 'lower'\n",
      "3220775 'NoneType' object has no attribute 'lower'\n",
      "3220817 'NoneType' object has no attribute 'lower'\n",
      "3220932 'NoneType' object has no attribute 'lower'\n",
      "3221287 'NoneType' object has no attribute 'lower'\n",
      "3221673 'NoneType' object has no attribute 'lower'\n",
      "3222487 'NoneType' object has no attribute 'lower'\n",
      "3223276 'NoneType' object has no attribute 'lower'\n",
      "3500000\n",
      "4000000\n",
      "4500000\n",
      "5000000\n"
     ]
    }
   ],
   "source": [
    "counter = 0\n",
    "\n",
    "network_dict = {}\n",
    "edge_dict = {}\n",
    "\n",
    "# relevant_venue_fields = ['_id', 'raw', 'type', 'name_d', 'sid', 't', 'name_s', 'name', 'src']\n",
    "# venue_stats = {x: Counter() for x in relevant_venue_fields}\n",
    "\n",
    "with fileinput.input(\"/home/singh_shruti/data/mag_aminer/citation_network/dblpv13.json\") as f:\n",
    "    for line in f:\n",
    "        if counter == 0:\n",
    "            counter += 1\n",
    "            continue\n",
    "        counter += 1\n",
    "\n",
    "        if counter%500000 == 0:\n",
    "            print(counter)\n",
    "        \n",
    "        try:\n",
    "            line = line.strip()\n",
    "            if line.startswith(\",{\"):\n",
    "                line = line[1:]\n",
    "            try:\n",
    "                pdict = json.loads(line)\n",
    "            except:\n",
    "                pdict = ast.literal_eval(line)\n",
    "\n",
    "\n",
    "            if \"venue\" in pdict:\n",
    "                if \"raw\" in pdict[\"venue\"]:\n",
    "                    raw_venue_name = pdict[\"venue\"][\"raw\"].lower().strip()\n",
    "                    found = False\n",
    "\n",
    "                    for conf_k, acrs in conf_acr.items():\n",
    "                        for aname in acrs:\n",
    "    #                         re_search = '\\b'+aname.lower()+'\\b'\n",
    "                            x = re.search(r'\\b'+aname.lower().strip()+r'\\b', raw_venue_name)\n",
    "                            if x:\n",
    "                                if \"_id\" in pdict and pdict[\"_id\"]: \n",
    "                                    if type(pdict[\"_id\"])==str:\n",
    "                                        network_dict[pdict[\"_id\"]] = pdict\n",
    "                                        network_dict[pdict[\"_id\"]].update({\"venue_key_shs\": conf_k})\n",
    "                                    else:\n",
    "                                        print(counter, pdict[\"_id\"])\n",
    "                                found = True\n",
    "                                break\n",
    "                        if found:\n",
    "                            break\n",
    "                    if not found:\n",
    "                        raw_venue_name_without_of_the = raw_venue_name.replace(\" of \", \" \")\n",
    "                        raw_venue_name_without_of_the = raw_venue_name_without_of_the.replace(\" the \", \" \")\n",
    "                        for conf_k, acrs in conf_title.items():\n",
    "                            for aname in acrs:\n",
    "                                aname_clean = aname.lower().strip().replace(\" of \", \" \")\n",
    "                                aname_clean = aname_clean.replace(\" the \", \" \")\n",
    "                                if raw_venue_name_without_of_the.find(aname_clean) > -1:\n",
    "                                    if \"_id\" in pdict and pdict[\"_id\"]: \n",
    "                                        if type(pdict[\"_id\"])==str:\n",
    "                                            network_dict[pdict[\"_id\"]] = pdict\n",
    "                                            network_dict[pdict[\"_id\"]].update({\"venue_key_shs\": conf_k})\n",
    "                                        else:\n",
    "                                            print(counter, pdict[\"_id\"])\n",
    "                                    found = True\n",
    "                                    break\n",
    "                            if found:\n",
    "                                break\n",
    "\n",
    "    #                     if k in relevant_venue_fields:\n",
    "    #                         venue_stats[k].update([pdict[\"venue\"][k]])\n",
    "                elif \"name_d\" in pdict[\"venue\"]:\n",
    "                    raw_venue_name = pdict[\"venue\"][\"name_d\"].lower()\n",
    "                    found = False\n",
    "\n",
    "                    for conf_k, acrs in jour_title.items():\n",
    "                        for aname in acrs:\n",
    "                            if raw_venue_name == aname.lower().strip():\n",
    "                                if \"_id\" in pdict and pdict[\"_id\"]: \n",
    "                                    if type(pdict[\"_id\"])==str:\n",
    "                                        network_dict[pdict[\"_id\"]] = pdict\n",
    "                                        network_dict[pdict[\"_id\"]].update({\"venue_key_shs\": conf_k})\n",
    "                                    else:\n",
    "                                        print(counter, pdict[\"_id\"])\n",
    "                                found = True\n",
    "                                break\n",
    "                        if found:\n",
    "                            break\n",
    "        except Exception as ex:\n",
    "            print(counter, ex)"
   ]
  },
  {
   "cell_type": "code",
   "execution_count": null,
   "metadata": {},
   "outputs": [],
   "source": []
  },
  {
   "cell_type": "code",
   "execution_count": null,
   "metadata": {},
   "outputs": [],
   "source": []
  },
  {
   "cell_type": "code",
   "execution_count": 16,
   "metadata": {},
   "outputs": [
    {
     "data": {
      "text/plain": [
       "308625"
      ]
     },
     "execution_count": 16,
     "metadata": {},
     "output_type": "execute_result"
    }
   ],
   "source": [
    "# papers in A/A* conferences and journals\n",
    "len(network_dict)"
   ]
  },
  {
   "cell_type": "code",
   "execution_count": 18,
   "metadata": {
    "scrolled": true
   },
   "outputs": [
    {
     "data": {
      "text/plain": [
       "Counter({'_id': 308625,\n",
       "         'abstract': 259031,\n",
       "         'authors': 307629,\n",
       "         'doi': 295262,\n",
       "         'fos': 294399,\n",
       "         'isbn': 257768,\n",
       "         'issn': 250813,\n",
       "         'issue': 275934,\n",
       "         'keywords': 207900,\n",
       "         'lang': 265196,\n",
       "         'n_citation': 282957,\n",
       "         'page_end': 303954,\n",
       "         'page_start': 304545,\n",
       "         'pdf': 269058,\n",
       "         'references': 240972,\n",
       "         'title': 308624,\n",
       "         'url': 303933,\n",
       "         'venue': 308625,\n",
       "         'venue_key_shs': 308625,\n",
       "         'volume': 276927,\n",
       "         'year': 308624})"
      ]
     },
     "execution_count": 18,
     "metadata": {},
     "output_type": "execute_result"
    }
   ],
   "source": [
    "# Count various keys present in the extracted papers\n",
    "\n",
    "key_counter_across_all_papers = Counter()\n",
    "\n",
    "for k,v in network_dict.items():\n",
    "    key_counter_across_all_papers.update(list(v.keys()))\n",
    "\n",
    "key_counter_across_all_papers"
   ]
  },
  {
   "cell_type": "code",
   "execution_count": null,
   "metadata": {},
   "outputs": [],
   "source": []
  },
  {
   "cell_type": "code",
   "execution_count": 21,
   "metadata": {},
   "outputs": [
    {
     "name": "stdout",
     "output_type": "stream",
     "text": [
      "defaultdict(<class 'int'>, {83: 2919, 7: 2416, 24: 6046, 34: 1463, 16: 11286, 25: 5534, 2: 9531, 43: 16426, 3: 5755, 0: 14849, 41: 1740, 45: 7490, 44: 2425, 76: 2347, 56: 937, 68: 513, 31: 8347, 39: 2836, 32: 2029, 70: 1545, 13: 4902, 4: 17787, 27: 4853, 71: 1625, 20: 1062, 14: 7151, 55: 2550, 51: 15509, 46: 5551, 19: 3978, 12: 4670, 8: 2382, 5: 1390, 38: 2063, 37: 6572, 50: 1890, 57: 6525, 40: 6477, 72: 422, 26: 2278, 47: 9658, 11: 5392, 78: 1413, 53: 925, 6: 12875, 18: 2737, 66: 1240, 30: 6103, 35: 536, 61: 612, 75: 3878, 52: 4672, 49: 1227, 60: 299, 54: 1476, 36: 1243, 82: 1534, 28: 1254, 22: 2330, 23: 1590, 1: 5296, 17: 518, 58: 2439, 29: 2600, 10: 1005, 64: 444, 62: 216, 9: 271, 65: 4514, 69: 530, 63: 2230, 77: 1375, 74: 410, 79: 714, 81: 482, 21: 6091, 59: 3144, 67: 1023, 42: 116, 33: 7238, 73: 379, 87: 6, 80: 433, 89: 4, 88: 33, 93: 4, 94: 27, 124: 2, 91: 3, 102: 1, 106: 2, 92: 1, 130: 1, 101: 2, 125: 1, 119: 1, 116: 1, 129: 1, 97: 1, 107: 1})\n"
     ]
    }
   ],
   "source": [
    "final_venue_stats = defaultdict(int)\n",
    "\n",
    "for k, v in network_dict.items():\n",
    "    final_venue_stats[v['venue_key_shs']] += 1\n",
    "    \n",
    "print(final_venue_stats)"
   ]
  },
  {
   "cell_type": "code",
   "execution_count": 22,
   "metadata": {},
   "outputs": [
    {
     "data": {
      "text/plain": [
       "308625"
      ]
     },
     "execution_count": 22,
     "metadata": {},
     "output_type": "execute_result"
    }
   ],
   "source": [
    "sum(final_venue_stats.values())"
   ]
  },
  {
   "cell_type": "code",
   "execution_count": 24,
   "metadata": {
    "scrolled": true
   },
   "outputs": [
    {
     "data": {
      "text/plain": [
       "[(0, 14849),\n",
       " (1, 5296),\n",
       " (2, 9531),\n",
       " (3, 5755),\n",
       " (4, 17787),\n",
       " (5, 1390),\n",
       " (6, 12875),\n",
       " (7, 2416),\n",
       " (8, 2382),\n",
       " (9, 271)]"
      ]
     },
     "execution_count": 24,
     "metadata": {},
     "output_type": "execute_result"
    }
   ],
   "source": [
    "sorted(final_venue_stats.items(), key=lambda x: x[0])[0:10]"
   ]
  },
  {
   "cell_type": "code",
   "execution_count": 62,
   "metadata": {},
   "outputs": [],
   "source": [
    "conf_papers_count = 0\n",
    "journal_papers_count = 0\n",
    "confcount = 0\n",
    "journcount = 0\n",
    "\n",
    "for k, v in final_venue_stats.items():\n",
    "    if k > 83:\n",
    "        journcount += 1\n",
    "        journal_papers_count += v\n",
    "    else:\n",
    "        confcount += 1\n",
    "        conf_papers_count += v"
   ]
  },
  {
   "cell_type": "code",
   "execution_count": 63,
   "metadata": {},
   "outputs": [
    {
     "data": {
      "text/plain": [
       "(308533, 92)"
      ]
     },
     "execution_count": 63,
     "metadata": {},
     "output_type": "execute_result"
    }
   ],
   "source": [
    "conf_papers_count, journal_papers_count"
   ]
  },
  {
   "cell_type": "code",
   "execution_count": 64,
   "metadata": {},
   "outputs": [
    {
     "data": {
      "text/plain": [
       "(82, 18)"
      ]
     },
     "execution_count": 64,
     "metadata": {},
     "output_type": "execute_result"
    }
   ],
   "source": [
    "confcount, journcount"
   ]
  },
  {
   "cell_type": "code",
   "execution_count": null,
   "metadata": {},
   "outputs": [],
   "source": []
  },
  {
   "cell_type": "code",
   "execution_count": 27,
   "metadata": {},
   "outputs": [],
   "source": [
    "nodes = set()\n",
    "\n",
    "for k,v in network_dict.items():\n",
    "    if 'references' in v:\n",
    "        nodes.update([k])\n",
    "        for nb in v['references']:\n",
    "            nodes.update([nb])"
   ]
  },
  {
   "cell_type": "code",
   "execution_count": 28,
   "metadata": {},
   "outputs": [
    {
     "data": {
      "text/plain": [
       "743370"
      ]
     },
     "execution_count": 28,
     "metadata": {},
     "output_type": "execute_result"
    }
   ],
   "source": [
    "len(nodes)"
   ]
  },
  {
   "cell_type": "code",
   "execution_count": 29,
   "metadata": {},
   "outputs": [],
   "source": [
    "edges = defaultdict(list)\n",
    "\n",
    "for k in nodes:\n",
    "    if k in network_dict and 'references' in network_dict[k]:\n",
    "        for i in network_dict[k]['references']:\n",
    "            edges[k].append(i)"
   ]
  },
  {
   "cell_type": "code",
   "execution_count": 30,
   "metadata": {},
   "outputs": [],
   "source": [
    "s = 0\n",
    "for p in edges:\n",
    "    s += len(edges[p])\n",
    "    "
   ]
  },
  {
   "cell_type": "code",
   "execution_count": 31,
   "metadata": {},
   "outputs": [
    {
     "data": {
      "text/plain": [
       "3337053"
      ]
     },
     "execution_count": 31,
     "metadata": {},
     "output_type": "execute_result"
    }
   ],
   "source": [
    "s"
   ]
  },
  {
   "cell_type": "code",
   "execution_count": null,
   "metadata": {},
   "outputs": [],
   "source": []
  },
  {
   "cell_type": "code",
   "execution_count": null,
   "metadata": {},
   "outputs": [],
   "source": []
  },
  {
   "cell_type": "code",
   "execution_count": null,
   "metadata": {},
   "outputs": [],
   "source": []
  },
  {
   "cell_type": "code",
   "execution_count": null,
   "metadata": {},
   "outputs": [],
   "source": []
  },
  {
   "cell_type": "code",
   "execution_count": null,
   "metadata": {},
   "outputs": [],
   "source": []
  },
  {
   "cell_type": "code",
   "execution_count": 6,
   "metadata": {},
   "outputs": [],
   "source": [
    "nodes = set()\n",
    "\n",
    "\n",
    "for k,v in network_dict.items():\n",
    "    if 'references' in v:\n",
    "        nodes.update([k])\n",
    "        for nb in v['references']:\n",
    "            nodes.update([nb])"
   ]
  },
  {
   "cell_type": "code",
   "execution_count": 7,
   "metadata": {},
   "outputs": [
    {
     "data": {
      "text/plain": [
       "746776"
      ]
     },
     "execution_count": 7,
     "metadata": {},
     "output_type": "execute_result"
    }
   ],
   "source": [
    "len(nodes)"
   ]
  },
  {
   "cell_type": "code",
   "execution_count": 9,
   "metadata": {},
   "outputs": [],
   "source": [
    "from collections import defaultdict"
   ]
  },
  {
   "cell_type": "code",
   "execution_count": 10,
   "metadata": {},
   "outputs": [],
   "source": [
    "edges = defaultdict(list)\n",
    "\n",
    "for k in nodes:\n",
    "    if k in network_dict and 'references' in network_dict[k]:\n",
    "        for i in network_dict[k]['references']:\n",
    "            edges[k].append(i)"
   ]
  },
  {
   "cell_type": "code",
   "execution_count": 21,
   "metadata": {},
   "outputs": [],
   "source": [
    "from collections import defaultdict"
   ]
  },
  {
   "cell_type": "code",
   "execution_count": 11,
   "metadata": {},
   "outputs": [],
   "source": [
    "s = 0\n",
    "for p in edges:\n",
    "    s += len(edges[p])"
   ]
  },
  {
   "cell_type": "code",
   "execution_count": 12,
   "metadata": {},
   "outputs": [
    {
     "data": {
      "text/plain": [
       "3345041"
      ]
     },
     "execution_count": 12,
     "metadata": {},
     "output_type": "execute_result"
    }
   ],
   "source": [
    "s"
   ]
  },
  {
   "cell_type": "markdown",
   "metadata": {},
   "source": [
    "# Old data stats\n",
    "nodes 360 thousand\n",
    "edges 1 million 664 thousand\n",
    "1762 ccomps\n",
    "354589 - 355 thousand "
   ]
  },
  {
   "cell_type": "code",
   "execution_count": null,
   "metadata": {},
   "outputs": [],
   "source": []
  },
  {
   "cell_type": "code",
   "execution_count": null,
   "metadata": {},
   "outputs": [],
   "source": []
  },
  {
   "cell_type": "markdown",
   "metadata": {},
   "source": [
    "# New data stats"
   ]
  },
  {
   "cell_type": "code",
   "execution_count": 32,
   "metadata": {},
   "outputs": [],
   "source": [
    "import networkx as nx\n",
    "G = nx.Graph()"
   ]
  },
  {
   "cell_type": "code",
   "execution_count": 33,
   "metadata": {},
   "outputs": [],
   "source": [
    "G.add_nodes_from(list(nodes))"
   ]
  },
  {
   "cell_type": "code",
   "execution_count": 34,
   "metadata": {},
   "outputs": [],
   "source": [
    "edges_list = []\n",
    "for i in edges:\n",
    "    for k in edges[i]:\n",
    "        edges_list.append((i, k))"
   ]
  },
  {
   "cell_type": "code",
   "execution_count": null,
   "metadata": {},
   "outputs": [],
   "source": []
  },
  {
   "cell_type": "code",
   "execution_count": 35,
   "metadata": {},
   "outputs": [],
   "source": [
    "G.add_edges_from(edges_list)"
   ]
  },
  {
   "cell_type": "code",
   "execution_count": 36,
   "metadata": {},
   "outputs": [],
   "source": [
    "cc = list(nx.connected_components(G))"
   ]
  },
  {
   "cell_type": "code",
   "execution_count": 43,
   "metadata": {},
   "outputs": [],
   "source": [
    "len_cc = []\n",
    "for x in cc:\n",
    "    len_cc.append(len(x))"
   ]
  },
  {
   "cell_type": "code",
   "execution_count": 46,
   "metadata": {},
   "outputs": [
    {
     "data": {
      "text/plain": [
       "743370"
      ]
     },
     "execution_count": 46,
     "metadata": {},
     "output_type": "execute_result"
    }
   ],
   "source": [
    "sum(len_cc)"
   ]
  },
  {
   "cell_type": "code",
   "execution_count": 47,
   "metadata": {},
   "outputs": [],
   "source": [
    "scc = sorted(len_cc, reverse=True)"
   ]
  },
  {
   "cell_type": "code",
   "execution_count": 49,
   "metadata": {},
   "outputs": [
    {
     "data": {
      "text/plain": [
       "(3178, 733701, [733701, 31, 28, 20, 19])"
      ]
     },
     "execution_count": 49,
     "metadata": {},
     "output_type": "execute_result"
    }
   ],
   "source": [
    "len(cc), len(cc[0]), scc[0:5]"
   ]
  },
  {
   "cell_type": "code",
   "execution_count": null,
   "metadata": {},
   "outputs": [],
   "source": []
  },
  {
   "cell_type": "code",
   "execution_count": 50,
   "metadata": {},
   "outputs": [],
   "source": [
    "from networkx.algorithms import community"
   ]
  },
  {
   "cell_type": "code",
   "execution_count": 51,
   "metadata": {},
   "outputs": [
    {
     "data": {
      "text/plain": [
       "'Name: \\nType: Graph\\nNumber of nodes: 743370\\nNumber of edges: 3329496\\nAverage degree:   8.9578'"
      ]
     },
     "execution_count": 51,
     "metadata": {},
     "output_type": "execute_result"
    }
   ],
   "source": [
    "nx.info(G)"
   ]
  },
  {
   "cell_type": "code",
   "execution_count": null,
   "metadata": {},
   "outputs": [],
   "source": []
  },
  {
   "cell_type": "code",
   "execution_count": null,
   "metadata": {},
   "outputs": [],
   "source": []
  },
  {
   "cell_type": "code",
   "execution_count": null,
   "metadata": {},
   "outputs": [],
   "source": []
  },
  {
   "cell_type": "markdown",
   "metadata": {},
   "source": [
    "## Directed Graph Statistics"
   ]
  },
  {
   "cell_type": "code",
   "execution_count": 56,
   "metadata": {},
   "outputs": [],
   "source": [
    "DG = nx.DiGraph(directed=True)"
   ]
  },
  {
   "cell_type": "code",
   "execution_count": 57,
   "metadata": {},
   "outputs": [],
   "source": [
    "DG.add_nodes_from(list(nodes))"
   ]
  },
  {
   "cell_type": "code",
   "execution_count": 58,
   "metadata": {},
   "outputs": [],
   "source": [
    "DG.add_edges_from(edges_list)"
   ]
  },
  {
   "cell_type": "code",
   "execution_count": 59,
   "metadata": {},
   "outputs": [
    {
     "data": {
      "text/plain": [
       "'Name: \\nType: DiGraph\\nNumber of nodes: 743370\\nNumber of edges: 3333025\\nAverage in degree:   4.4837\\nAverage out degree:   4.4837'"
      ]
     },
     "execution_count": 59,
     "metadata": {},
     "output_type": "execute_result"
    }
   ],
   "source": [
    "nx.info(DG)"
   ]
  },
  {
   "cell_type": "code",
   "execution_count": 61,
   "metadata": {},
   "outputs": [
    {
     "ename": "IndexError",
     "evalue": "list index out of range",
     "output_type": "error",
     "traceback": [
      "\u001b[0;31m---------------------------------------------------------------------------\u001b[0m",
      "\u001b[0;31mIndexError\u001b[0m                                Traceback (most recent call last)",
      "\u001b[0;32m<ipython-input-61-939df765148c>\u001b[0m in \u001b[0;36m<module>\u001b[0;34m()\u001b[0m\n\u001b[0;32m----> 1\u001b[0;31m \u001b[0mcommunities\u001b[0m \u001b[0;34m=\u001b[0m \u001b[0mcommunity\u001b[0m\u001b[0;34m.\u001b[0m\u001b[0mgreedy_modularity_communities\u001b[0m\u001b[0;34m(\u001b[0m\u001b[0mDG\u001b[0m\u001b[0;34m)\u001b[0m\u001b[0;34m\u001b[0m\u001b[0;34m\u001b[0m\u001b[0m\n\u001b[0m",
      "\u001b[0;32m/home/singh_shruti/.local/lib/python3.6/site-packages/networkx/algorithms/community/modularity_max.py\u001b[0m in \u001b[0;36mgreedy_modularity_communities\u001b[0;34m(G, weight)\u001b[0m\n\u001b[1;32m    108\u001b[0m         \u001b[0;31m# If this element was also at the root of row j, we need to remove the\u001b[0m\u001b[0;34m\u001b[0m\u001b[0;34m\u001b[0m\u001b[0;34m\u001b[0m\u001b[0m\n\u001b[1;32m    109\u001b[0m         \u001b[0;31m# duplicate entry from H\u001b[0m\u001b[0;34m\u001b[0m\u001b[0;34m\u001b[0m\u001b[0;34m\u001b[0m\u001b[0m\n\u001b[0;32m--> 110\u001b[0;31m         \u001b[0;32mif\u001b[0m \u001b[0mdq_heap\u001b[0m\u001b[0;34m[\u001b[0m\u001b[0mj\u001b[0m\u001b[0;34m]\u001b[0m\u001b[0;34m.\u001b[0m\u001b[0mh\u001b[0m\u001b[0;34m[\u001b[0m\u001b[0;36m0\u001b[0m\u001b[0;34m]\u001b[0m \u001b[0;34m==\u001b[0m \u001b[0;34m(\u001b[0m\u001b[0;34m-\u001b[0m\u001b[0mdq\u001b[0m\u001b[0;34m,\u001b[0m \u001b[0mj\u001b[0m\u001b[0;34m,\u001b[0m \u001b[0mi\u001b[0m\u001b[0;34m)\u001b[0m\u001b[0;34m:\u001b[0m\u001b[0;34m\u001b[0m\u001b[0;34m\u001b[0m\u001b[0m\n\u001b[0m\u001b[1;32m    111\u001b[0m             \u001b[0mH\u001b[0m\u001b[0;34m.\u001b[0m\u001b[0mremove\u001b[0m\u001b[0;34m(\u001b[0m\u001b[0;34m(\u001b[0m\u001b[0;34m-\u001b[0m\u001b[0mdq\u001b[0m\u001b[0;34m,\u001b[0m \u001b[0mj\u001b[0m\u001b[0;34m,\u001b[0m \u001b[0mi\u001b[0m\u001b[0;34m)\u001b[0m\u001b[0;34m)\u001b[0m\u001b[0;34m\u001b[0m\u001b[0;34m\u001b[0m\u001b[0m\n\u001b[1;32m    112\u001b[0m             \u001b[0;31m# Remove best merge from row j heap\u001b[0m\u001b[0;34m\u001b[0m\u001b[0;34m\u001b[0m\u001b[0;34m\u001b[0m\u001b[0m\n",
      "\u001b[0;31mIndexError\u001b[0m: list index out of range"
     ]
    }
   ],
   "source": [
    "communities = community.greedy_modularity_communities(DG)"
   ]
  },
  {
   "cell_type": "code",
   "execution_count": null,
   "metadata": {},
   "outputs": [],
   "source": []
  },
  {
   "cell_type": "code",
   "execution_count": null,
   "metadata": {},
   "outputs": [],
   "source": []
  },
  {
   "cell_type": "code",
   "execution_count": null,
   "metadata": {},
   "outputs": [],
   "source": []
  },
  {
   "cell_type": "code",
   "execution_count": null,
   "metadata": {},
   "outputs": [],
   "source": []
  },
  {
   "cell_type": "markdown",
   "metadata": {},
   "source": [
    "# Save network dictionary"
   ]
  },
  {
   "cell_type": "code",
   "execution_count": 66,
   "metadata": {},
   "outputs": [],
   "source": [
    "with open('data/network_dict.pkl', 'wb') as f:\n",
    "    pickle.dump(network_dict, f)"
   ]
  },
  {
   "cell_type": "code",
   "execution_count": null,
   "metadata": {},
   "outputs": [],
   "source": []
  },
  {
   "cell_type": "code",
   "execution_count": null,
   "metadata": {},
   "outputs": [],
   "source": []
  },
  {
   "cell_type": "markdown",
   "metadata": {},
   "source": [
    "# Update reference nodes in the network dict"
   ]
  },
  {
   "cell_type": "code",
   "execution_count": 69,
   "metadata": {},
   "outputs": [],
   "source": [
    "c = 0\n",
    "missing_ref_nodes = []\n",
    "\n",
    "for n in nodes:\n",
    "    if not n in network_dict:\n",
    "        c+=1\n",
    "        missing_ref_nodes.append(n)"
   ]
  },
  {
   "cell_type": "code",
   "execution_count": 68,
   "metadata": {},
   "outputs": [
    {
     "data": {
      "text/plain": [
       "(308625, 743370)"
      ]
     },
     "execution_count": 68,
     "metadata": {},
     "output_type": "execute_result"
    }
   ],
   "source": [
    "len(network_dict), len(nodes)"
   ]
  },
  {
   "cell_type": "code",
   "execution_count": 72,
   "metadata": {},
   "outputs": [],
   "source": [
    "original_network_dict = network_dict.copy()"
   ]
  },
  {
   "cell_type": "code",
   "execution_count": null,
   "metadata": {},
   "outputs": [],
   "source": [
    "misingstr = \" \".join(missing_ref_nodes)"
   ]
  },
  {
   "cell_type": "code",
   "execution_count": null,
   "metadata": {},
   "outputs": [],
   "source": []
  },
  {
   "cell_type": "code",
   "execution_count": 90,
   "metadata": {},
   "outputs": [
    {
     "name": "stdout",
     "output_type": "stream",
     "text": [
      "2 must be str, not dict\n",
      "55666 'NoneType' object has no attribute 'lower'\n",
      "100000\n",
      "200000\n",
      "300000\n",
      "400000\n",
      "500000\n",
      "600000\n",
      "700000\n",
      "800000\n",
      "900000\n",
      "1000000\n",
      "1100000\n",
      "1200000\n",
      "1300000\n",
      "1400000\n",
      "1500000\n",
      "1600000\n",
      "1700000\n",
      "1800000\n",
      "1879976 'NoneType' object has no attribute 'lower'\n",
      "1900000\n",
      "2000000\n",
      "2100000\n",
      "2149686 'NoneType' object has no attribute 'lower'\n",
      "2200000\n",
      "2300000\n",
      "2400000\n",
      "2500000\n",
      "2600000\n",
      "2700000\n",
      "2800000\n",
      "2900000\n",
      "3000000\n",
      "3100000\n",
      "3200000\n",
      "3221673 'NoneType' object has no attribute 'lower'\n",
      "3300000\n",
      "3400000\n",
      "3500000\n",
      "3600000\n",
      "3700000\n",
      "3800000\n",
      "3900000\n",
      "4000000\n",
      "4100000\n",
      "4200000\n",
      "4300000\n",
      "4400000\n",
      "4500000\n",
      "4600000\n",
      "4700000\n",
      "4800000\n",
      "4900000\n",
      "5000000\n",
      "5100000\n",
      "5200000\n",
      "5300000\n"
     ]
    }
   ],
   "source": [
    "# %%time\n",
    "counter = 0\n",
    "\n",
    "with fileinput.input(\"/home/singh_shruti/data/mag_aminer/citation_network/dblpv13.json\") as f:\n",
    "    for line in f:\n",
    "        if counter == 0:\n",
    "            counter += 1\n",
    "            continue\n",
    "        counter += 1\n",
    "\n",
    "        if counter%100000 == 0:\n",
    "            print(counter)\n",
    "#             break\n",
    "        \n",
    "        try:\n",
    "            line = line.strip()\n",
    "            \n",
    "#             ref_pre = False\n",
    "#             for kk in missing_ref_nodes:\n",
    "#                 if line.find(kk) > -1:\n",
    "#                     ref_pre = True\n",
    "#                     break\n",
    "#             if not ref_pre:\n",
    "#                 continue\n",
    "            \n",
    "            if line.startswith(\",{\"):\n",
    "                line = line[1:]\n",
    "            try:\n",
    "                pdict = json.loads(line)\n",
    "            except:\n",
    "                pdict = ast.literal_eval(line)\n",
    "                \n",
    "            if \"_id\" in pdict and pdict[\"_id\"]:\n",
    "                pid = pdict[\"_id\"]\n",
    "                if misingstr.find(pid)>-1:\n",
    "                    \n",
    "                    if \"venue\" in pdict:\n",
    "                        if \"raw\" in pdict[\"venue\"]:\n",
    "                            raw_venue_name = pdict[\"venue\"][\"raw\"].lower().strip()\n",
    "                            found = False\n",
    "\n",
    "                            for conf_k, acrs in conf_acr.items():\n",
    "                                for aname in acrs:\n",
    "            #                         re_search = '\\b'+aname.lower()+'\\b'\n",
    "                                    x = re.search(r'\\b'+aname.lower().strip()+r'\\b', raw_venue_name)\n",
    "                                    if x:\n",
    "                                        if type(pdict[\"_id\"])==str:\n",
    "                                            network_dict[pdict[\"_id\"]] = pdict\n",
    "                                            network_dict[pdict[\"_id\"]].update({\"venue_key_shs\": conf_k})\n",
    "                                        else:\n",
    "                                            print(counter, pdict[\"_id\"])\n",
    "                                        found = True\n",
    "                                        break\n",
    "                                if found:\n",
    "                                    break\n",
    "                            if not found:\n",
    "                                raw_venue_name_without_of_the = raw_venue_name.replace(\" of \", \" \")\n",
    "                                raw_venue_name_without_of_the = raw_venue_name_without_of_the.replace(\" the \", \" \")\n",
    "                                for conf_k, acrs in conf_title.items():\n",
    "                                    for aname in acrs:\n",
    "                                        aname_clean = aname.lower().strip().replace(\" of \", \" \")\n",
    "                                        aname_clean = aname_clean.replace(\" the \", \" \")\n",
    "                                        if raw_venue_name_without_of_the.find(aname_clean) > -1:\n",
    "                                            if type(pdict[\"_id\"])==str:\n",
    "                                                network_dict[pdict[\"_id\"]] = pdict\n",
    "                                                network_dict[pdict[\"_id\"]].update({\"venue_key_shs\": conf_k})\n",
    "                                            else:\n",
    "                                                print(counter, pdict[\"_id\"])\n",
    "                                            found = True\n",
    "                                            break\n",
    "                                    if found:\n",
    "                                        break\n",
    "\n",
    "            #                     if k in relevant_venue_fields:\n",
    "            #                         venue_stats[k].update([pdict[\"venue\"][k]])\n",
    "                        elif \"name_d\" in pdict[\"venue\"]:\n",
    "                            raw_venue_name = pdict[\"venue\"][\"name_d\"].lower()\n",
    "                            found = False\n",
    "\n",
    "                            for conf_k, acrs in jour_title.items():\n",
    "                                for aname in acrs:\n",
    "                                    if raw_venue_name == aname.lower().strip():\n",
    "                                        if type(pdict[\"_id\"])==str:\n",
    "                                            network_dict[pdict[\"_id\"]] = pdict\n",
    "                                            network_dict[pdict[\"_id\"]].update({\"venue_key_shs\": conf_k})\n",
    "                                        else:\n",
    "                                            print(counter, pdict[\"_id\"])\n",
    "                                        found = True\n",
    "                                        break\n",
    "                                if found:\n",
    "                                    break\n",
    "                        else:\n",
    "                            network_dict[pdict[\"_id\"]] = pdict\n",
    "                            # -1 denoting missing (A/A*) conf/journal name\n",
    "                            network_dict[pdict[\"_id\"]].update({\"venue_key_shs\": -1})\n",
    "        except Exception as ex:\n",
    "            print(counter, ex)"
   ]
  },
  {
   "cell_type": "code",
   "execution_count": 91,
   "metadata": {},
   "outputs": [
    {
     "data": {
      "text/plain": [
       "5354310"
      ]
     },
     "execution_count": 91,
     "metadata": {},
     "output_type": "execute_result"
    }
   ],
   "source": [
    "counter"
   ]
  },
  {
   "cell_type": "code",
   "execution_count": 96,
   "metadata": {},
   "outputs": [
    {
     "data": {
      "text/plain": [
       "50"
      ]
     },
     "execution_count": 96,
     "metadata": {},
     "output_type": "execute_result"
    }
   ],
   "source": [
    "misingstr.find(\"53e9ba2db7602d9704636694\")"
   ]
  },
  {
   "cell_type": "code",
   "execution_count": 97,
   "metadata": {},
   "outputs": [
    {
     "data": {
      "text/plain": [
       "False"
      ]
     },
     "execution_count": 97,
     "metadata": {},
     "output_type": "execute_result"
    }
   ],
   "source": [
    "\"53e9ba2db7602d9704636694\" in network_dict"
   ]
  },
  {
   "cell_type": "code",
   "execution_count": null,
   "metadata": {},
   "outputs": [],
   "source": []
  },
  {
   "cell_type": "code",
   "execution_count": null,
   "metadata": {},
   "outputs": [],
   "source": []
  },
  {
   "cell_type": "code",
   "execution_count": 92,
   "metadata": {},
   "outputs": [
    {
     "data": {
      "text/plain": [
       "310282"
      ]
     },
     "execution_count": 92,
     "metadata": {},
     "output_type": "execute_result"
    }
   ],
   "source": [
    "# run2\n",
    "len(network_dict)"
   ]
  },
  {
   "cell_type": "code",
   "execution_count": 74,
   "metadata": {},
   "outputs": [
    {
     "data": {
      "text/plain": [
       "308625"
      ]
     },
     "execution_count": 74,
     "metadata": {},
     "output_type": "execute_result"
    }
   ],
   "source": [
    "# Run 1\n",
    "len(network_dict)"
   ]
  },
  {
   "cell_type": "code",
   "execution_count": 93,
   "metadata": {},
   "outputs": [],
   "source": [
    "c = 0\n",
    "missing_ref_nodes = []\n",
    "\n",
    "for n in nodes:\n",
    "    if not n in network_dict:\n",
    "        c+=1\n",
    "        missing_ref_nodes.append(n)"
   ]
  },
  {
   "cell_type": "code",
   "execution_count": 94,
   "metadata": {},
   "outputs": [
    {
     "data": {
      "text/plain": [
       "489459"
      ]
     },
     "execution_count": 94,
     "metadata": {},
     "output_type": "execute_result"
    }
   ],
   "source": [
    "len(missing_ref_nodes)"
   ]
  },
  {
   "cell_type": "code",
   "execution_count": 95,
   "metadata": {},
   "outputs": [
    {
     "data": {
      "text/plain": [
       "['53e9af6eb7602d97039b36c3',\n",
       " '53e9a38fb7602d9702c9e0a9',\n",
       " '53e9ba2db7602d9704636694',\n",
       " '53e9a4cfb7602d9702dee915',\n",
       " '53e9b489b7602d9703f90298',\n",
       " '53e9b47db7602d9703f826c7',\n",
       " '53e9b055b7602d9703aba422',\n",
       " '53e9b0fbb7602d9703b79cbc',\n",
       " '53e9b2d1b7602d9703d7d76f',\n",
       " '558a4093e4b0b32fcb35b6ec']"
      ]
     },
     "execution_count": 95,
     "metadata": {},
     "output_type": "execute_result"
    }
   ],
   "source": [
    "missing_ref_nodes[0:10]"
   ]
  },
  {
   "cell_type": "code",
   "execution_count": null,
   "metadata": {},
   "outputs": [],
   "source": []
  },
  {
   "cell_type": "code",
   "execution_count": null,
   "metadata": {},
   "outputs": [],
   "source": []
  },
  {
   "cell_type": "code",
   "execution_count": 75,
   "metadata": {},
   "outputs": [
    {
     "data": {
      "text/plain": [
       "19614"
      ]
     },
     "execution_count": 75,
     "metadata": {},
     "output_type": "execute_result"
    }
   ],
   "source": [
    "counter"
   ]
  },
  {
   "cell_type": "code",
   "execution_count": 76,
   "metadata": {},
   "outputs": [
    {
     "data": {
      "text/plain": [
       "['53e9af6eb7602d97039b36c3',\n",
       " '53e9a38fb7602d9702c9e0a9',\n",
       " '53e9ba2db7602d9704636694',\n",
       " '53e9a4cfb7602d9702dee915',\n",
       " '53e9b489b7602d9703f90298',\n",
       " '53e9b47db7602d9703f826c7',\n",
       " '53e9b055b7602d9703aba422',\n",
       " '53e9b0fbb7602d9703b79cbc',\n",
       " '53e9b2d1b7602d9703d7d76f',\n",
       " '558a4093e4b0b32fcb35b6ec',\n",
       " '5b3d98b017c44a510f7ffc0b',\n",
       " '53e9a48eb7602d9702daa9e6',\n",
       " '53e9b71db7602d97042b7b86',\n",
       " '557ff8e7f6678c77ea22b7f2',\n",
       " '53e9b762b7602d9704306691',\n",
       " '57a4e921ac44365e35c98d69',\n",
       " '53e99c3db7602d97024e9f97',\n",
       " '558bf4b684ae6766fdf0386e',\n",
       " '5dea043a9e795e693620e984',\n",
       " '53e9be3cb7602d9704af7789',\n",
       " '53e9ab4fb7602d97034e50d0',\n",
       " '53e99967b7602d97021ab507',\n",
       " '573696666e3b12023e5733ef',\n",
       " '53e9adf6b7602d97037ffbee',\n",
       " '53e9a3e7b7602d9702d00e49',\n",
       " '53e997e9b7602d9701fe5a66',\n",
       " '57a4e921ac44365e35c991ce',\n",
       " '5843771fac44360f1082e1e6',\n",
       " '53e99fa2b7602d97028780c2',\n",
       " '5eb6821691e011ac7e65658c',\n",
       " '53e9a855b7602d970319ca74',\n",
       " '53e9bde9b7602d9704a9dd56',\n",
       " '53e9bcadb7602d970492bee8',\n",
       " '53e9b43db7602d9703f34140',\n",
       " '53e9b79fb7602d9704348781',\n",
       " '53e99d29b7602d97025e1195',\n",
       " '53e99e5bb7602d970272283a',\n",
       " '53e9bb8cb7602d97047d2768',\n",
       " '53e9b48fb7602d9703f944cc',\n",
       " '573698286e3b12023e6fa457',\n",
       " '53e9ac33b7602d97035f6ec7',\n",
       " '53e99b30b7602d97023cdac0',\n",
       " '53e9a396b7602d9702ca485f',\n",
       " '5b3d98cc17c44a510f801fa3',\n",
       " '53e9b9edb7602d97045e9acc',\n",
       " '56d8b0f1dabfae2eeee09fad',\n",
       " '57a4e937ac44365e35c9cfd4',\n",
       " '5736984e6e3b12023e716c34',\n",
       " '5a260c2317c44a4ba8a22f01',\n",
       " '53e9afe9b7602d9703a3ddb2',\n",
       " '53e9b3e2b7602d9703ed3688',\n",
       " '53e9af99b7602d97039e1c6c',\n",
       " '5550403b45ce0a409eb3305e',\n",
       " '53e99ff0b7602d97028cdc01',\n",
       " '557e5550f6678c77ea22223a',\n",
       " '53e9b5e0b7602d970412ea11',\n",
       " '53e99c67b7602d9702517a45',\n",
       " '5c8fb3ff4895d9cbc65c33db',\n",
       " '558b371ee4b0b32fcb3b606c',\n",
       " '57d063d8ac44367354293452',\n",
       " '573698066e3b12023e6dea54',\n",
       " '558c18cee4b02b9f07a50f4b',\n",
       " '573695956e3b12023e4b49c3',\n",
       " '5a73cb5d17c44a0b3035741e',\n",
       " '53e9b8d4b7602d97044b4dc3',\n",
       " '53e9b4bfb7602d9703fd5125',\n",
       " '56d89e66dabfae2eee5130eb',\n",
       " '5bdc315817c44a1f58a063aa',\n",
       " '53e9aa73b7602d97033e9618',\n",
       " '558afc29e4b037c0875a5616',\n",
       " '56d815c0dabfae2eee706abb',\n",
       " '558c5326e4b0cfb70a1d063f',\n",
       " '573698186e3b12023e6ec31e',\n",
       " '573697056e3b12023e5ff0e2',\n",
       " '53e99b36b7602d97023d414e',\n",
       " '53e9b917b7602d9704500a89',\n",
       " '558a8bb784ae84d265be3d9b',\n",
       " '53e9abdfb7602d9703599a29',\n",
       " '53e99f0ab7602d97027d9c4d',\n",
       " '53e9bc5ab7602d97048d0905',\n",
       " '53e99ef4b7602d97027be532',\n",
       " '53e99832b7602d9702056b62',\n",
       " '5c4707d97301396d1ffab1c0',\n",
       " '55503ef945ce0a409eb2b6f5',\n",
       " '5b67b46b17c44aac1c861eed',\n",
       " '53e9b338b7602d9703e0cbd5',\n",
       " '53e99e7fb7602d9702741fc6',\n",
       " '573695ad6e3b12023e4cb8d7',\n",
       " '5550426f45ce0a409eb423ba',\n",
       " '53e9ab65b7602d9703500b7f',\n",
       " '599c7bf6601a182cd2777f04',\n",
       " '53e99d7ab7602d97026360e3',\n",
       " '5b3d986f17c44a510f7fabf7',\n",
       " '53e9a0dfb7602d97029c8379',\n",
       " '53e9bb36b7602d97047759ef',\n",
       " '53e9ba39b7602d9704649203',\n",
       " '53e9b289b7602d9703d2e64c',\n",
       " '53e9a1b6b7602d9702aaae94',\n",
       " '53e9a6d8b7602d970300f7d6',\n",
       " '53e99a1ab7602d970226c75b',\n",
       " '53e9a8c5b7602d9703213ee3',\n",
       " '53e9b009b7602d9703a64916',\n",
       " '573695546e3b12023e47e463',\n",
       " '53e9bb86b7602d97047c9974',\n",
       " '53e9b24db7602d9703ceba24',\n",
       " '53e9985fb7602d970209bb98',\n",
       " '53e9b46fb7602d9703f6e2bb',\n",
       " '57a4e901ac44365e35c94d7b',\n",
       " '53e9adf6b7602d9703801b9e',\n",
       " '53e9a10db7602d97029f92a9',\n",
       " '558a3d4ee4b031bae1f67753',\n",
       " '5a260c7317c44a4ba8a2e9bf',\n",
       " '558294a20cf2bf7bae57b695',\n",
       " '53e9a797b7602d97030d155a',\n",
       " '53e9aca1b7602d970367fcf0',\n",
       " '53e9b4afb7602d9703fc08cf',\n",
       " '56d81924dabfae2eee873ebf',\n",
       " '5ef876e691e0115941835d57',\n",
       " '53e9b67eb7602d97041eaca2',\n",
       " '53e9a819b7602d970315c934',\n",
       " '53e9ad42b7602d970372440d',\n",
       " '53e9a6c3b7602d9702ff58f3',\n",
       " '56d852bbdabfae2eee10bc08',\n",
       " '53e99ea0b7602d970276812e',\n",
       " '53e9a02cb7602d970290f152',\n",
       " '599c797d601a182cd2643f73',\n",
       " '53e9a570b7602d9702e9687f',\n",
       " '53e9ac82b7602d9703655b8f',\n",
       " '53e9b8c7b7602d97044a969c',\n",
       " '5c0495ae17c44a2c7470183f',\n",
       " '53e9abf1b7602d97035acad7',\n",
       " '53e99ad7b7602d970235c1d4',\n",
       " '53e99de1b7602d97026a1a85',\n",
       " '599c7b63601a182cd2731fb2',\n",
       " '53e9b3cdb7602d9703eb7621',\n",
       " '53e9b627b7602d970417ff7b',\n",
       " '53e9abbeb7602d970356e0f9',\n",
       " '53e99a4eb7602d97022af9be',\n",
       " '573696e76e3b12023e5e650e',\n",
       " '5843774eac44360f1083a0bb',\n",
       " '573696c46e3b12023e5c48df',\n",
       " '555046f845ce0a409eb6339b',\n",
       " '53e9a55cb7602d9702e800e2',\n",
       " '573696c46e3b12023e5c5809',\n",
       " '53e9a797b7602d97030d05c7',\n",
       " '53e9a8b8b7602d9703207c06',\n",
       " '53e997f8b7602d9701ffec5c',\n",
       " '573697296e3b12023e61abb5',\n",
       " '53e9a0b4b7602d970299b2d9',\n",
       " '53e9a9f0b7602d9703356791',\n",
       " '5bdc31b417c44a1f58a0bafc',\n",
       " '53e9ab89b7602d97035318cd',\n",
       " '53e9ae63b7602d970387dfbc',\n",
       " '53e9aacab7602d970344c631',\n",
       " '53e9a439b7602d9702d56428',\n",
       " '53e9ba9bb7602d97046c645c',\n",
       " '53e9a8e2b7602d970322f5cf',\n",
       " '53e9a358b7602d9702c646a1',\n",
       " '53e99dabb7602d970266b72e',\n",
       " '53e9b055b7602d9703ab90e3',\n",
       " '53e9ae4fb7602d970386b660',\n",
       " '53e9abaab7602d9703557e88',\n",
       " '53e9adffb7602d97038072d9',\n",
       " '53e9b79fb7602d970434719b',\n",
       " '53e9b823b7602d97043dbd0b',\n",
       " '53e99fa2b7602d9702875da4',\n",
       " '53e9bbb5b7602d97048002cb',\n",
       " '53e9a758b7602d9703094491',\n",
       " '53e9aa61b7602d97033d674b',\n",
       " '5550407545ce0a409eb34668',\n",
       " '5c757cc0f56def9798a6fdd7',\n",
       " '558a776fe4b037c087575136',\n",
       " '573697f96e3b12023e6d348a',\n",
       " '53e9b3bcb7602d9703ea750a',\n",
       " '53e9a952b7602d97032a6ce8',\n",
       " '53e9ad26b7602d9703708d58',\n",
       " '573697ab6e3b12023e68eddb',\n",
       " '5843777aac44360f10841012',\n",
       " '53e9b0e6b7602d9703b61bb9',\n",
       " '53e9a0f4b7602d97029e07d6',\n",
       " '5c8b589b4895d9cbc6837a07',\n",
       " '53e99b71b7602d970241998f',\n",
       " '53e9bc00b7602d970485ed49',\n",
       " '53e9b7d9b7602d970438cb72',\n",
       " '5cede10eda562983788eea26',\n",
       " '53e9b783b7602d970432ba02',\n",
       " '555045d345ce0a409eb59cca',\n",
       " '53e9b9b9b7602d97045ac208',\n",
       " '53e9987db7602d97020b4f78',\n",
       " '599c7e9b601a182cd28b3ca7',\n",
       " '573696026e3b12023e5162cb',\n",
       " '5c4314903a55ac79ddea2e4d',\n",
       " '53e9bbc8b7602d97048122f0',\n",
       " '5d0a12ce8607575390f96cfd',\n",
       " '53e99a0eb7602d97022615b2',\n",
       " '53e99e04b7602d97026c52d9',\n",
       " '53e9a2f4b7602d9702bffd60',\n",
       " '53e9bc27b7602d9704892a32',\n",
       " '53e9b850b7602d9704411c14',\n",
       " '53e9a734b7602d970306a815',\n",
       " '53e99d9eb7602d970265c414',\n",
       " '53e9b587b7602d97040ccf57',\n",
       " '53e99854b7602d970208da73',\n",
       " '56d90055dabfae2eeed33081',\n",
       " '58d82fe0d649053542fd9799',\n",
       " '53e9b281b7602d9703d27fc2',\n",
       " '53e9a06db7602d9702956bd0',\n",
       " '599c7ee9601a182cd28d6c59',\n",
       " '53e99fbcb7602d97028973f0',\n",
       " '58d82fcbd649053542fd648f',\n",
       " '53e9a584b7602d9702eacae6',\n",
       " '53e99a09b7602d9702255701',\n",
       " '53e9b521b7602d97040547eb',\n",
       " '53e99c83b7602d97025320e1',\n",
       " '5da8400a47c8f766460cdbe3',\n",
       " '53e9bab4b7602d97046e4d9c',\n",
       " '53e9b750b7602d97042eee32',\n",
       " '53e9a667b7602d9702f9a1e4',\n",
       " '53e99b26b7602d97023c203f',\n",
       " '53e9bc00b7602d97048613e9',\n",
       " '58d8301ad649053542fe283b',\n",
       " '5b3d98c717c44a510f801102',\n",
       " '53e9bac2b7602d97046ef7c0',\n",
       " '5aed14d117c44a443815878c',\n",
       " '56d8c766dabfae2eee591cf7',\n",
       " '53e9a3fbb7602d9702d107c2',\n",
       " '53e99e1ab7602d97026df51b',\n",
       " '56d81da9dabfae2eeea5d01b',\n",
       " '599c7d51601a182cd2817200',\n",
       " '53e99f94b7602d970286a435',\n",
       " '53e9ae35b7602d970384a941',\n",
       " '558b520684ae84d265c2bbbf',\n",
       " '53e9b6a2b7602d970421c330',\n",
       " '53e9b3c7b7602d9703eb2c4b',\n",
       " '53e99b4ab7602d97023ebbd6',\n",
       " '53e9b055b7602d9703ab8126',\n",
       " '558c06fde4b00c3c48dfd3f5',\n",
       " '53e9aca1b7602d970367e20b',\n",
       " '5c8bb7204895d9cbc6a59d4f',\n",
       " '53e9b1b0b7602d9703c404e2',\n",
       " '53e9aa3bb7602d97033aacdd',\n",
       " '53e9b55db7602d9704097481',\n",
       " '5c38b531df5b8c0b3c87e87e',\n",
       " '599c7c16601a182cd2787926',\n",
       " '53e9a7ebb7602d970312be69',\n",
       " '53e9ac6ab7602d970363e3e8',\n",
       " '53e9a5f0b7602d9702f1bfa0',\n",
       " '53e998cdb7602d970210878f',\n",
       " '53e9a36db7602d9702c763fe',\n",
       " '555044e645ce0a409eb51ca4',\n",
       " '53e9b740b7602d97042d7569',\n",
       " '53e9a41cb7602d9702d34de8',\n",
       " '58437762ac44360f1083cb6c',\n",
       " '53e9a263b7602d9702b696bd',\n",
       " '53e9b65bb7602d97041b980d',\n",
       " '53e9b923b7602d97045108b5',\n",
       " '555041d645ce0a409eb3df90',\n",
       " '53e9a350b7602d9702c58d4b',\n",
       " '53e9aaecb7602d970346f966',\n",
       " '5550436e45ce0a409eb4764f',\n",
       " '53e9b3d4b7602d9703ebf166',\n",
       " '53e99a98b7602d97023117b7',\n",
       " '58437767ac44360f1083dd75',\n",
       " '5bbacb6117c44aecc4ead3d6',\n",
       " '558a5e0c84ae84d265bd2ef3',\n",
       " '53e9bafbb7602d9704735467',\n",
       " '53e99e61b7602d9702728263',\n",
       " '55323e0e45cec66b6f9e1584',\n",
       " '53e9af99b7602d97039e355c',\n",
       " '53e9a743b7602d9703079bb7',\n",
       " '5c76b5c14895d9cbc6b3a9e9',\n",
       " '53e9ae42b7602d97038596b7',\n",
       " '573696896e3b12023e5950d8',\n",
       " '53e9b556b7602d970408c895',\n",
       " '53e998a9b7602d97020e2927',\n",
       " '5550423945ce0a409eb40b37',\n",
       " '53e9a5d3b7602d9702eff8f3',\n",
       " '53e9ac18b7602d97035d8952',\n",
       " '5cf48a43da56291d582a6eb7',\n",
       " '53e9a81fb7602d9703162d87',\n",
       " '573695fe6e3b12023e51217a',\n",
       " '53e9b8a8b7602d9704481114',\n",
       " '53e9bd4bb7602d97049dbb93',\n",
       " '53e9be2eb7602d9704aebd96',\n",
       " '53e9bb36b7602d9704774e4f',\n",
       " '573698246e3b12023e6f6708',\n",
       " '55503f7745ce0a409eb2e49c',\n",
       " '53e9a1dbb7602d9702ad586c',\n",
       " '53e9b289b7602d9703d31856',\n",
       " '53e9b601b7602d9704157fe8',\n",
       " '53e9b30ab7602d9703dcfa84',\n",
       " '53e99f77b7602d970284b1e3',\n",
       " '53e9a9cbb7602d970332bf09',\n",
       " '55503e1045ce0a409eb28132',\n",
       " '5550403d45ce0a409eb33130',\n",
       " '53e9aa8eb7602d9703408cd6',\n",
       " '56d81d5fdabfae2eeea3da1c',\n",
       " '53e9b50bb7602d970403e55e',\n",
       " '53e9b5a8b7602d97040ef182',\n",
       " '58d82fc8d649053542fd5b1d',\n",
       " '53e9a6e6b7602d970301c92a',\n",
       " '53e9bb02b7602d970473ba29',\n",
       " '5736973f6e3b12023e62de71',\n",
       " '57a4e932ac44365e35c9be74',\n",
       " '5c7828ec4895d9cbc680d68b',\n",
       " '53e9ab6fb7602d9703511131',\n",
       " '53e99b77b7602d970241c687',\n",
       " '56d893c4dabfae2eeefd65ff',\n",
       " '53e9bd37b7602d97049c303b',\n",
       " '53e9a154b7602d9702a422f2',\n",
       " '56d8fa3bdabfae2eeeae2d18',\n",
       " '53e9b76eb7602d9704316516',\n",
       " '53e9a10eb7602d97029fec07',\n",
       " '558bddb9e4b0cfb70a1a47f1',\n",
       " '53e999eeb7602d9702231d22',\n",
       " '5e296ede3a55ac6ad1e44eec',\n",
       " '58437789ac44360f108439c7',\n",
       " '53e9a0d2b7602d97029bc899',\n",
       " '53e9a00ab7602d97028ef306',\n",
       " '53e9ba2db7602d970463750a',\n",
       " '53e99b4ab7602d97023e917c',\n",
       " '573697df6e3b12023e6bdb35',\n",
       " '558c177ae4b00c3c48e02e2c',\n",
       " '53e9b917b7602d97044fe13e',\n",
       " '53e9a6e6b7602d970301dd90',\n",
       " '53e9b5b6b7602d97040ff56a',\n",
       " '5b67b4b417c44aac1c866df7',\n",
       " '5a9cb60d17c44a376ffb3bcb',\n",
       " '5550416345ce0a409eb3ad44',\n",
       " '53e9a487b7602d9702da3471',\n",
       " '558a679fe4b031bae1f77001',\n",
       " '53e9b37bb7602d9703e5b523',\n",
       " '53e9ae22b7602d9703837498',\n",
       " '53e9bd9eb7602d9704a4928b',\n",
       " '5a03cef2421aa90583ac8066',\n",
       " '53e9be43b7602d9704afdd4c',\n",
       " '53e9baadb7602d97046ddc27',\n",
       " '53e9b666b7602d97041c774b',\n",
       " '53e9b7fcb7602d97043aeda9',\n",
       " '53e9b5fab7602d970414b55a',\n",
       " '53e9a480b7602d9702da0b02',\n",
       " '53e9b556b7602d970408bc27',\n",
       " '5cede0e3da562983788c1ed6',\n",
       " '573697446e3b12023e631ba1',\n",
       " '53e9a4bfb7602d9702ddcf5e',\n",
       " '5550466d45ce0a409eb5e705',\n",
       " '53e9bb44b7602d9704783b11',\n",
       " '53e9a0adb7602d9702993004',\n",
       " '53e9b923b7602d9704510462',\n",
       " '53e9be64b7602d9704b2636f',\n",
       " '5736979b6e3b12023e6814bf',\n",
       " '53e9bc3bb7602d97048addb2',\n",
       " '5b3d98cc17c44a510f801b62',\n",
       " '53e9a5a8b7602d9702ed2bab',\n",
       " '56d8e303dabfae2eee1eeb53',\n",
       " '5bdc31b417c44a1f58a0b2f4',\n",
       " '53e9a066b7602d9702949b8f',\n",
       " '53e9be50b7602d9704b0efd4',\n",
       " '5c8d23384895d9cbc63ea314',\n",
       " '53e9b999b7602d970458d1af',\n",
       " '53e99c3db7602d97024eb43a',\n",
       " '5c785ddd4895d9cbc6952ef1',\n",
       " '53e9b521b7602d97040580b3',\n",
       " '557049cb2401b4b38c23a0ea',\n",
       " '555046cc45ce0a409eb61c29',\n",
       " '5d270c363a55ac3db2f555a0',\n",
       " '53e9ad77b7602d970376b04d',\n",
       " '53e9ba23b7602d970462ba05',\n",
       " '53e9b0fbb7602d9703b75b6e',\n",
       " '53e9a70bb7602d970303e258',\n",
       " '557f1a946fee0fe990caecc7',\n",
       " '53e9b833b7602d97043edca9',\n",
       " '53e9b84ab7602d9704409b18',\n",
       " '5550456445ce0a409eb55dbd',\n",
       " '53e9a76db7602d97030a3b0a',\n",
       " '573696c96e3b12023e5c953c',\n",
       " '53e99e71b7602d970273872b',\n",
       " '53e9ae8fb7602d97038ad860',\n",
       " '5bdc314717c44a1f58a05132',\n",
       " '53e9b373b7602d9703e50c6c',\n",
       " '53e9a138b7602d9702a2907e',\n",
       " '5ce3a700ced107d4c6527434',\n",
       " '53e9acfeb7602d97036ddba9',\n",
       " '53e9a8b0b7602d97031fd228',\n",
       " '573697896e3b12023e66f0c1',\n",
       " '58d83020d649053542fe3648',\n",
       " '53e9afe8b7602d9703a39dea',\n",
       " '56d8445edabfae2eeea225a9',\n",
       " '53e9a3cdb7602d9702cde4f2',\n",
       " '53e9a5f6b7602d9702f201cd',\n",
       " '558bf48fe4b00c3c48df6f30',\n",
       " '53e9a931b7602d9703285553',\n",
       " '53e9b8aeb7602d970448cd6c',\n",
       " '573696fe6e3b12023e5f96dc',\n",
       " '5d9edc6147c8f7664603d971',\n",
       " '558b016a84ae84d265c0ee81',\n",
       " '57a4e937ac44365e35c9c9dd',\n",
       " '56d868d7dabfae2eeeb64732',\n",
       " '53e9a7cfb7602d970310bacb',\n",
       " '5b8c9f1f17c44af36f8b3acf',\n",
       " '53e9af7bb7602d97039c07c5',\n",
       " '53e9a4fab7602d9702e1bf2d',\n",
       " '53e9ae11b7602d970381ddb7',\n",
       " '573696076e3b12023e51aaf2',\n",
       " '58a76bf59ed5dbdf3724b0ba',\n",
       " '53e9b13eb7602d9703bc40b3',\n",
       " '558bf29de4b0cfb70a1ac017',\n",
       " '53e9ad68b7602d9703751edc',\n",
       " '5736967e6e3b12023e58ac4b',\n",
       " '53e9a914b7602d97032668e7',\n",
       " '53e9bc3bb7602d97048b1196',\n",
       " '53e9ab5fb7602d97034f6bd8',\n",
       " '53e9bdacb7602d9704a5aa3b',\n",
       " '53e9ab82b7602d9703529604',\n",
       " '53e9a93eb7602d970329151f',\n",
       " '53e99931b7602d970216fa50',\n",
       " '53e9ab5fb7602d97034fa091',\n",
       " '53e998dbb7602d97021131cb',\n",
       " '53e9bd5fb7602d97049f718a',\n",
       " '599c7967601a182cd26394c0',\n",
       " '5550458a45ce0a409eb572ff',\n",
       " '573697016e3b12023e5fb9b5',\n",
       " '53e998b0b7602d97020e9317',\n",
       " '53e9b59bb7602d97040e2ae9',\n",
       " '558a7b4be4b0b32fcb371371',\n",
       " '573696db6e3b12023e5dacee',\n",
       " '53e9a603b7602d9702f33b4b',\n",
       " '53e99c91b7602d97025429d5',\n",
       " '558a32dfe4b031bae1f63b25',\n",
       " '5db9265247c8f766461ade95',\n",
       " '53e9a6e7b7602d970301ed58',\n",
       " '53e9a8eab7602d97032380c0',\n",
       " '5a260c5717c44a4ba8a29a8d',\n",
       " '53e9a4f2b7602d9702e12052',\n",
       " '53e9b62eb7602d970418866a',\n",
       " '53e9b2c6b7602d9703d70cb9',\n",
       " '56a8cde00cf260694326b323',\n",
       " '53e9b754b7602d97042f3ce0',\n",
       " '53e9b068b7602d9703acf391',\n",
       " '53e9b5d4b7602d970411fe0d',\n",
       " '5843774eac44360f1083a0d7',\n",
       " '53e9a0f3b7602d97029dc7cf',\n",
       " '53e9bd6ab7602d9704a06602',\n",
       " '53e9b254b7602d9703cf6f01',\n",
       " '56d8a96fdabfae2eeea72b68',\n",
       " '599c7f08601a182cd28e5995',\n",
       " '55503fc945ce0a409eb30370',\n",
       " '58d82fb8d649053542fd2acb',\n",
       " '53e99b56b7602d97023f76e2',\n",
       " '53e99fa2b7602d97028762b4',\n",
       " '5a73cbc317c44a0b3035f071',\n",
       " '599c7ce9601a182cd27e73fc',\n",
       " '53e9a194b7602d9702a8b29e',\n",
       " '599c79b9601a182cd265e66d',\n",
       " '53e9aeb1b7602d97038d29ba',\n",
       " '53e9bd82b7602d9704a2645e',\n",
       " '5b8c9f5317c44af36f8b76c9',\n",
       " '53e9b20cb7602d9703ca420b',\n",
       " '558c643ee4b02b9f07a6d96c',\n",
       " '53e9be3cb7602d9704af6412',\n",
       " '5a260c8b17c44a4ba8a329ce',\n",
       " '56d90876dabfae2eee0653fd',\n",
       " '53e9a04ab7602d9702932520',\n",
       " '53e9b1c2b7602d9703c526ce',\n",
       " '53e9a19bb7602d9702a8fcc8',\n",
       " '5d2da1af3a55acd1016fb03a',\n",
       " '53e9a4aab7602d9702dca9c8',\n",
       " '5e5100db93d709897c8c2e23',\n",
       " '53e9aeb7b7602d97038e09ed',\n",
       " '53e9b891b7602d9704465045',\n",
       " '53e99fa2b7602d9702875745',\n",
       " '53e9b4afb7602d9703fc078a',\n",
       " '53e9bd31b7602d97049bc056',\n",
       " '53e9ab14b7602d970349d528',\n",
       " '53e9995ab7602d970219d703',\n",
       " '53e99b8db7602d9702436276',\n",
       " '57d063c7ac44367354291146',\n",
       " '53e9a317b7602d9702c2080e',\n",
       " '5a9cb65d17c44a376ffb8240',\n",
       " '53e9bcefb7602d9704974370',\n",
       " '5ee355c791e011cbabd64315',\n",
       " '53e99eafb7602d970277acc1',\n",
       " '53e9ad1fb7602d97036fe730',\n",
       " '5e3942b93a55ace685f813eb',\n",
       " '53e9ad56b7602d970373a1f7',\n",
       " '53e99b04b7602d9702392b8f',\n",
       " '53e9a819b7602d97031616cb',\n",
       " '5843776cac44360f1083ecf4',\n",
       " '53e99b95b7602d970243e216',\n",
       " '53e9a4ecb7602d9702e0f557',\n",
       " '53e9b049b7602d9703aacf47',\n",
       " '5c88a9854895d9cbc689c0e6',\n",
       " '53e99a19b7602d970226b7d2',\n",
       " '55323b9045cec66b6f9da2a1',\n",
       " '557d38abf667eeed56199653',\n",
       " '53e9bb36b7602d970477639b',\n",
       " '53e9bc79b7602d97048f9f3f',\n",
       " '5c6a37b23a69b1c9e12a94aa',\n",
       " '53e9ba2db7602d970463754d',\n",
       " '53e99cd9b7602d9702590387',\n",
       " '53e9b86db7602d970443ad03',\n",
       " '53e99c60b7602d9702513709',\n",
       " '5550413d45ce0a409eb3999f',\n",
       " '53e99d44b7602d97025f8017',\n",
       " '53e9a77bb7602d97030b21de',\n",
       " '53e9b557b7602d9704090cf3',\n",
       " '53e9aa95b7602d970340ef3d',\n",
       " '599c7d37601a182cd280b06f',\n",
       " '53e9a246b7602d9702b50888',\n",
       " '53e9a5c5b7602d9702eede52',\n",
       " '5c4880fd3a55ac0aa3fb70dd',\n",
       " '5c77bed74895d9cbc64c18be',\n",
       " '53e9ae90b7602d97038b45e6',\n",
       " '53e99d74b7602d970262c93a',\n",
       " '53e9bdd4b7602d9704a817d4',\n",
       " '573697b66e3b12023e6986d3',\n",
       " '53e9ae2eb7602d9703842cc4',\n",
       " '558a3820e4b0b32fcb358514',\n",
       " '558c7e1384ae6766fdf36672',\n",
       " '53e9b46ab7602d9703f6d44e',\n",
       " '56d83b98dabfae2eee6295e2',\n",
       " '53e99dd4b7602d97026961bc',\n",
       " '53e9a1a8b7602d9702a9c04d',\n",
       " '53e9a611b7602d9702f40d0e',\n",
       " '53e9a3c1b7602d9702cd3ee8',\n",
       " '558a517a84ae84d265bce3df',\n",
       " '53e9a64ab7602d9702f7a076',\n",
       " '558c2251e4b00c3c48e0703c',\n",
       " '5550437145ce0a409eb477a1',\n",
       " '558c56bde4b02b9f07a68688',\n",
       " '53e9a1dbb7602d9702ad9cd1',\n",
       " '53e9bd92b7602d9704a3a682',\n",
       " '573697036e3b12023e5fcb95',\n",
       " '5b67b46417c44aac1c8615c0',\n",
       " '53e99a52b7602d97022b72f3',\n",
       " '53e9b01cb7602d9703a760b0',\n",
       " '53e9acccb7602d97036aa7dd',\n",
       " '53e9987db7602d97020b4034',\n",
       " '53e9b82fb7602d97043eb872',\n",
       " '53e9b9a0b7602d970458fbf7',\n",
       " '53e9a003b7602d97028e7d23',\n",
       " '555044d845ce0a409eb51473',\n",
       " '558bffba84ae6766fdf079d1',\n",
       " '5e3e8816df1a9c0c41ecbcd5',\n",
       " '53e99a98b7602d970230fef7',\n",
       " '558ac0b3e4b0b32fcb38a850',\n",
       " '558b092384ae84d265c11df5',\n",
       " '53e9b464b7602d9703f644b1',\n",
       " '53e99bb2b7602d970245be3f',\n",
       " '53e9bb93b7602d97047db393',\n",
       " '53e9a525b7602d9702e4a08a',\n",
       " '558bffc8e4b02b9f07a47ecb',\n",
       " '53e9b48fb7602d9703f960ab',\n",
       " '5c9e198c6558b90bfaa91621',\n",
       " '53e9b33db7602d9703e0f34b',\n",
       " '53e9b89bb7602d9704474cd1',\n",
       " '53e9a720b7602d9703059681',\n",
       " '53e9a8eab7602d9703237e03',\n",
       " '53e9bb0fb7602d970474a186',\n",
       " '53e9b108b7602d9703b8381d',\n",
       " '558bc44484ae6766fdef1998',\n",
       " '573696656e3b12023e571757',\n",
       " '53e9ad5db7602d97037464f4',\n",
       " '53e99f11b7602d97027de787',\n",
       " '57d0637cac443673542880c9',\n",
       " '53e99ad7b7602d970235c3a1',\n",
       " '558c160484ae6766fdf0f6c3',\n",
       " '53e9ad26b7602d9703704db6',\n",
       " '53e99de2b7602d97026a6c20',\n",
       " '573697616e3b12023e649430',\n",
       " '53e9acaeb7602d970368d1e4',\n",
       " '5de0e950df1a9c0c415d1110',\n",
       " '58d82fcbd649053542fd6056',\n",
       " '53e99991b7602d97021d1fe2',\n",
       " '56ae9f020cf2a8c8f7149b49',\n",
       " '57a4e908ac44365e35c9531c',\n",
       " '53e9ad76b7602d9703765f85',\n",
       " '53e9aa61b7602d97033d5f6c',\n",
       " '5ce3acddced107d4c65ae375',\n",
       " '53e9bc61b7602d97048dd606',\n",
       " '599c7833601a182cd25aaf21',\n",
       " '53e9b850b7602d97044157d5',\n",
       " '53e9a17fb7602d9702a6e05a',\n",
       " '53e9ae17b7602d9703827776',\n",
       " '5550469e45ce0a409eb5fe30',\n",
       " '53e9984bb7602d970207d29d',\n",
       " '53e99c1ab7602d97024c9b18',\n",
       " '58d83025d649053542fe44a1',\n",
       " '56d81483dabfae2eee685fd7',\n",
       " '53e9b4abb7602d9703fbddb6',\n",
       " '555044e445ce0a409eb51bb9',\n",
       " '53e9a501b7602d9702e25a7a',\n",
       " '53e9a223b7602d9702b25676',\n",
       " '53e9b166b7602d9703be9d3d',\n",
       " '53e9afa0b7602d97039e9fa6',\n",
       " '53e9b95bb7602d9704545104',\n",
       " '558c6baee4b00c3c48e22d77',\n",
       " '57d063c7ac44367354290ff5',\n",
       " '58437725ac44360f1083022a',\n",
       " '5ac1825d17c44a1fda9143a3',\n",
       " '53e99c84b7602d97025340ad',\n",
       " '573696136e3b12023e52626a',\n",
       " '5ea40e679fced0a24bac854d',\n",
       " '558aa3bbe4b037c087585034',\n",
       " '53e9bd76b7602d9704a139ce',\n",
       " '5cede0f2da562983788d092b',\n",
       " '53e9b7f5b7602d97043a63bc',\n",
       " '53e9af7bb7602d97039c2739',\n",
       " '53e9a0adb7602d9702995b2c',\n",
       " '53e9aab0b7602d970342b114',\n",
       " '53e99931b7602d970216e978',\n",
       " '59ae3c4c2bbe271c4c720856',\n",
       " '556fb0352401b4b38c23787f',\n",
       " '558ad2b5e4b0b32fcb39147b',\n",
       " '5a260c6917c44a4ba8a2ce3c',\n",
       " '53e9b259b7602d9703cfbb1b',\n",
       " '53e9ba6ab7602d970468dc76',\n",
       " '558a5377e4b0b32fcb3626d2',\n",
       " '53e9a5f0b7602d9702f1c893',\n",
       " '53e9a9d3b7602d970332f530',\n",
       " '5ce2acbaced107d4c6b91913',\n",
       " '53e9a8beb7602d970321097a',\n",
       " '5cc96f9dced107d4c64510f8',\n",
       " '53e99cfdb7602d97025b1e3d',\n",
       " '5ce937225ced2477cb328b33',\n",
       " '53e9ab37b7602d97034c5528',\n",
       " '53e9a8b7b7602d9703203734',\n",
       " '58437735ac44360f10832237',\n",
       " '53e9ad4eb7602d97037326a6',\n",
       " '57a4e8f1ac44365e35c9338e',\n",
       " '558ae3f2e4b0b32fcb397c8d',\n",
       " '53e9b6f4b7602d97042868af',\n",
       " '558be190e4b00c3c48df0396',\n",
       " '58d83051d649053542fe9d5a',\n",
       " '53e9b7b4b7602d970435c02a',\n",
       " '53e9acf0b7602d97036cefff',\n",
       " '53e999f5b7602d970223b224',\n",
       " '53e9a994b7602d97032eef2b',\n",
       " '558b466584ae84d265c2787e',\n",
       " '5e5e2af693d709897cede60e',\n",
       " '53e9adf6b7602d9703800fbe',\n",
       " '53e9b344b7602d9703e1b629',\n",
       " '53e9b2f9b7602d9703db9fec',\n",
       " '599c784f601a182cd25b8b59',\n",
       " '53e9b895b7602d970446f258',\n",
       " '53e9a55cb7602d9702e7f802',\n",
       " '555041f645ce0a409eb3efb5',\n",
       " '53e99e30b7602d97026f1649',\n",
       " '53e9adc2b7602d97037c5df5',\n",
       " '53e9b6dbb7602d97042687f7',\n",
       " '558a51cee4b0b32fcb361d1d',\n",
       " '53e99f9bb7602d9702871017',\n",
       " '558a3594e4b037c08755c935',\n",
       " '58437783ac44360f108425ae',\n",
       " '557e3706d19faf961d167f99',\n",
       " '53e9bdeeb7602d9704a9fece',\n",
       " '53e9b946b7602d9704533bcf',\n",
       " '53e9aeebb7602d970391a395',\n",
       " '53e9a099b7602d9702983762',\n",
       " '56d90388dabfae2eeee74b0a',\n",
       " '53e9b3b7b7602d9703e9ef9d',\n",
       " '53e9991cb7602d970215a45a',\n",
       " '53e9b527b7602d970405d3d2',\n",
       " '557c80e26feeaa8086da01b5',\n",
       " '5550414b45ce0a409eb39f8e',\n",
       " '53e9bdb9b7602d9704a651ee',\n",
       " '5c0495e417c44a2c7470468c',\n",
       " '5736960d6e3b12023e520a66',\n",
       " '53e9b5fbb7602d9704151601',\n",
       " '558c6057e4b0cfb70a1d56c5',\n",
       " '53e9b6bfb7602d9704245eb7',\n",
       " '56d89b8fdabfae2eee3aed75',\n",
       " '53e9a7acb7602d97030e768b',\n",
       " '53e9b260b7602d9703d04590',\n",
       " '53e9ae22b7602d97038318f0',\n",
       " '53e9ba76b7602d97046971e1',\n",
       " '53e9b542b7602d9704079935',\n",
       " '5550426245ce0a409eb41fe4',\n",
       " '53e9bb29b7602d9704763c77',\n",
       " '53e9aee4b7602d97039123f7',\n",
       " '53e9a2e5b7602d9702bf1092',\n",
       " '53e9b414b7602d9703f0cca6',\n",
       " '58437722ac44360f1082f47f',\n",
       " '53e99e86b7602d970274d247',\n",
       " '5736960f6e3b12023e522332',\n",
       " '53e9b92ab7602d9704516931',\n",
       " '5cac6e99e1cd8e0d7230141d',\n",
       " '53e9a2a5b7602d9702bae89d',\n",
       " '53e9ae49b7602d9703863c90',\n",
       " '57a4e91aac44365e35c97a4d',\n",
       " '53e9b671b7602d97041d5f02',\n",
       " '53e99960b7602d97021a3e8a',\n",
       " '53e9bc48b7602d97048bf2a2',\n",
       " '573696426e3b12023e54f7e2',\n",
       " '5c8d27214895d9cbc640033f',\n",
       " '53e99ee6b7602d97027b2e4a',\n",
       " '53e9bc36b7602d97048a6f37',\n",
       " '557f771c6fee0fe990cb152d',\n",
       " '53e9ae63b7602d970387d991',\n",
       " '53e9bc2db7602d970489b137',\n",
       " '53e99ab2b7602d970232dab2',\n",
       " '5ac1829d17c44a1fda917a72',\n",
       " '53e9b7e0b7602d9704390367',\n",
       " '53e9ae3cb7602d9703855069',\n",
       " '53e9b6dbb7602d970426a8c8',\n",
       " '53e9ab20b7602d97034a5ca1',\n",
       " '5550448b45ce0a409eb4eb5d',\n",
       " '599c7dff601a182cd286c632',\n",
       " '53e9b93eb7602d97045278c2',\n",
       " '53e9a108b7602d97029f557f',\n",
       " '53e9b260b7602d9703d003e8',\n",
       " '53e9993fb7602d970217af2f',\n",
       " '558bdc0be4b0cfb70a1a3dec',\n",
       " '55a6d1d865ce054aad77213e',\n",
       " '53e9a281b7602d9702b8a70b',\n",
       " '53e9b07db7602d9703ae41df',\n",
       " '53e9ba8ab7602d97046adf07',\n",
       " '53e99cb4b7602d9702566109',\n",
       " '573695766e3b12023e49997c',\n",
       " '573696206e3b12023e531dba',\n",
       " '53e9ba64b7602d9704681fe9',\n",
       " '53e9a113b7602d9702a0121b',\n",
       " '56d8d704dabfae2eeed37311',\n",
       " '53e9b41ab7602d9703f10267',\n",
       " '56d8bb31dabfae2eee306dfc',\n",
       " '5550468045ce0a409eb5efb1',\n",
       " '53e9bbfbb7602d97048580ab',\n",
       " '53e9aa5cb7602d97033c979d',\n",
       " '5c86d5354895d9cbc6a18746',\n",
       " '53e9a067b7602d970294fcca',\n",
       " '57d06402ac443673542987bf',\n",
       " '53e99e4db7602d9702711a6d',\n",
       " '558a2bb584ae84d265bc0607',\n",
       " '53e9abebb7602d97035a6365',\n",
       " '53e9a4abb7602d9702dcda4d',\n",
       " '55503fad45ce0a409eb2f7b4',\n",
       " '53e99f5cb7602d970282f909',\n",
       " '53e9adcdb7602d97037d3875',\n",
       " '53e9a1a2b7602d9702a99d05',\n",
       " '56d81e13dabfae2eeea839f5',\n",
       " '558a8a5b84ae84d265be35bf',\n",
       " '53e9a480b7602d9702d9c363',\n",
       " '53e9b9a0b7602d970458fb61',\n",
       " '53e9a95db7602d97032b494a',\n",
       " '56d81354dabfae2eee60e8ce',\n",
       " '53e9a735b7602d970306d1fe',\n",
       " '555041a445ce0a409eb3ce7e',\n",
       " '5550488145ce0a409eb6eeab',\n",
       " '558aac21e4b037c087587fb9',\n",
       " '53e9b289b7602d9703d2bb7c',\n",
       " '5550477145ce0a409eb673b4',\n",
       " '53e9abc4b7602d9703577cae',\n",
       " '5a4aef9017c44a2190f79616',\n",
       " '53e99c84b7602d9702534327',\n",
       " '5b8c9f4a17c44af36f8b7222',\n",
       " '55503f2545ce0a409eb2c782',\n",
       " '557e3d7a6fee0fe990ca815e',\n",
       " '53e9b091b7602d9703af9273',\n",
       " '5c0f7592da562944ac6d77c6',\n",
       " '573698786e3b12023e738cae',\n",
       " '53e9a8b7b7602d9703204efc',\n",
       " '53e99aacb7602d97023271c0',\n",
       " '53e9be4ab7602d9704b0bd34',\n",
       " '53e9b68eb7602d9704200ae9',\n",
       " '53e9aa6db7602d97033e3d8d',\n",
       " '53e9a48eb7602d9702dac4c7',\n",
       " '5736973c6e3b12023e62bb59',\n",
       " '573695696e3b12023e48e5cc',\n",
       " '53e9b929b7602d9704515d97',\n",
       " '5c0f85c6da562944ac9183a1',\n",
       " '53e9ab37b7602d97034c49c5',\n",
       " '53e9a0c2b7602d97029aaeac',\n",
       " '5cf48a2fda56291d58290e92',\n",
       " '53e9b1deb7602d9703c7404f',\n",
       " '558c5260e4b0cfb70a1d0190',\n",
       " '53e9a4c8b7602d9702dea33d',\n",
       " '53e9a8b0b7602d97031ff1ea',\n",
       " '558bffba84ae6766fdf079d3',\n",
       " '53e9bcb3b7602d9704936841',\n",
       " '5550458745ce0a409eb57079',\n",
       " '53e9bd6fb7602d9704a0ccf6',\n",
       " '53e9a603b7602d9702f30ae5',\n",
       " '53e9ab38b7602d97034c699c',\n",
       " '53e9ba2db7602d9704636025',\n",
       " '57d06406ac44367354299a93',\n",
       " '557c5fa96feeaa8086d9bf0d',\n",
       " '53e9b82eb7602d97043e74bb',\n",
       " '5550442f45ce0a409eb4beac',\n",
       " '57d063b1ac4436735428d771',\n",
       " '53e9b5dab7602d970412af84',\n",
       " '53e9b3b1b7602d9703e952f7',\n",
       " '53e99c7cb7602d970252d587',\n",
       " '53e997ccb7602d9701fbe5a2',\n",
       " '53e9b316b7602d9703ddcf8b',\n",
       " '53e9b621b7602d9704177e7b',\n",
       " '558c8f3de4b00c3c48e2f966',\n",
       " '53e9afc0b7602d9703a12aa9',\n",
       " '53e99c20b7602d97024cb508',\n",
       " '53e9a636b7602d9702f67c5c',\n",
       " '5aed14b617c44a443815722e',\n",
       " '53e9adf6b7602d97038019b3',\n",
       " '53e9a1c3b7602d9702ab85e6',\n",
       " '53e99b21b7602d97023bb7bf',\n",
       " '53e999bbb7602d970220340f',\n",
       " '5550489545ce0a409eb6faa1',\n",
       " '53e9addbb7602d97037e59aa',\n",
       " '53e99eeeb7602d97027bbb06',\n",
       " '5c8b258e4895d9cbc66f6870',\n",
       " '53e99838b7602d970206081f',\n",
       " '5bdc315017c44a1f58a05917',\n",
       " '599c795f601a182cd2635680',\n",
       " '555041b645ce0a409eb3d442',\n",
       " '53e9a2acb7602d9702bb400a',\n",
       " '53e9a11bb7602d9702a0c685',\n",
       " '558c9ad3e4b00c3c48e33ace',\n",
       " '53e9a138b7602d9702a264e3',\n",
       " '53e9a766b7602d970309d93e',\n",
       " '56d90153dabfae2eeed94a9a',\n",
       " '557c584af66765fbb46b0081',\n",
       " '56d916dfdabfae2eee5f70f0',\n",
       " '53e9ae84b7602d97038a3142',\n",
       " '53e99b0ab7602d970239def4',\n",
       " '53e9ba7cb7602d970469e457',\n",
       " '5c04967517c44a2c74708a5e',\n",
       " '53e9af12b7602d97039492b8',\n",
       " '53e99a5cb7602d97022c303d',\n",
       " '53e9bcf6b7602d970497d2ef',\n",
       " '53e9aa67b7602d97033dddad',\n",
       " '53e9bc05b7602d9704864f9f',\n",
       " '53e9a58cb7602d9702eb6f29',\n",
       " '53e99893b7602d97020cbfaf',\n",
       " '57a4e91dac44365e35c989e6',\n",
       " '5550427f45ce0a409eb42c19',\n",
       " '573695c26e3b12023e4dce85',\n",
       " '53e9abdfb7602d9703596e01',\n",
       " '53e9b359b7602d9703e33360',\n",
       " '5b3d98cc17c44a510f801ef7',\n",
       " '59a02f01b161cef00a8e6db8',\n",
       " '53e9b259b7602d9703cf9285',\n",
       " '53e9bd55b7602d97049e98ee',\n",
       " '53e9bdfdb7602d9704ab158f',\n",
       " '53e9b241b7602d9703ce1f0c',\n",
       " '53e9a5f6b7602d9702f1f7b4',\n",
       " '53e99f27b7602d97027f1a2e',\n",
       " '53e9a9eab7602d970334ca3f',\n",
       " '599c7982601a182cd2645d1b',\n",
       " '599c794e601a182cd262e529',\n",
       " '53e9a0a6b7602d970299190b',\n",
       " '53e9b4bfb7602d9703fd6d11',\n",
       " '53e998b8b7602d97020f1b65',\n",
       " '53e9a1bcb7602d9702ab1154',\n",
       " '53e9b2beb7602d9703d66dfb',\n",
       " '53e9aec4b7602d97038ed3b5',\n",
       " '5b1643398fbcbf6e5a9bac32',\n",
       " '5e4913d193d709897c6e4468',\n",
       " '57d06406ac44367354299b39',\n",
       " '53e9ab4fb7602d97034e40bb',\n",
       " '573697a16e3b12023e68653b',\n",
       " '53e9b60eb7602d9704165b85',\n",
       " '53e9ad81b7602d970377666b',\n",
       " '558b5621e4b031bae1fcd53e',\n",
       " '53e9abb8b7602d97035649e2',\n",
       " '5a260c8117c44a4ba8a30a42',\n",
       " '599c78a4601a182cd25e0999',\n",
       " '53e9a554b7602d9702e77616',\n",
       " '53e99ebdb7602d9702785284',\n",
       " '53e9b746b7602d97042e109c',\n",
       " '53e9a86ab7602d97031b981d',\n",
       " '53e9bd03b7602d9704988bfe',\n",
       " '53e9b228b7602d9703cc2583',\n",
       " '56d87c8bdabfae2eee45fce6',\n",
       " '53e9a416b7602d9702d338c6',\n",
       " '53e9bdeeb7602d9704a9f2dc',\n",
       " '5ccd44e0ced107d4c6c0ae3c',\n",
       " '573697db6e3b12023e6b95b9',\n",
       " '53e9a698b7602d9702fc7a86',\n",
       " '573695536e3b12023e47d83d',\n",
       " '53e99dd3b7602d9702694ebe',\n",
       " '53e9ad87b7602d970377a6d3',\n",
       " '53e9acb5b7602d970369122b',\n",
       " '5e32a94e3a55ac40ee3ee2c0',\n",
       " '53e9af4cb7602d970398e08c',\n",
       " '53e9b24db7602d9703ceaaa0',\n",
       " '53e9a751b7602d9703088023',\n",
       " '53e997f1b7602d9701ff0c67',\n",
       " '53e99d73b7602d970262c12c',\n",
       " '5d207495275ded87f951cdda',\n",
       " '53e9b7fcb7602d97043afc9f',\n",
       " '53e9b44bb7602d9703f48d7f',\n",
       " '5736963d6e3b12023e549914',\n",
       " '53e9a957b7602d97032ab90a',\n",
       " '5e5e18c793d709897ce302ef',\n",
       " '53e9aafab7602d970347a867',\n",
       " '53e9b188b7602d9703c1016b',\n",
       " '5bdc315017c44a1f58a05a9f',\n",
       " '5b3d98c717c44a510f8012ca',\n",
       " '53e9aa16b7602d9703385798',\n",
       " '53e99a9eb7602d970231599e',\n",
       " '599c7aa7601a182cd26d13c6',\n",
       " '53e9bd3eb7602d97049c9bc4',\n",
       " '55323bd945cec66b6f9dab7a',\n",
       " '53e99a04b7602d9702251aac',\n",
       " '573696816e3b12023e58ccd1',\n",
       " '53e997fcb7602d9702008f42',\n",
       " '53e9ba2db7602d97046373f6',\n",
       " '53e9a863b7602d97031ae92d',\n",
       " '53e9ac82b7602d9703655ef4',\n",
       " '53e9b1bcb7602d9703c4b544',\n",
       " '5550417145ce0a409eb3b496',\n",
       " '53e9ab6fb7602d9703511b41',\n",
       " '53e9b5e0b7602d9704133176',\n",
       " '5aed14d617c44a4438158bf2',\n",
       " '53e9aad8b7602d9703459408',\n",
       " '558af59a84ae84d265c0a731',\n",
       " '555040c145ce0a409eb363a9',\n",
       " '5c755960f56def97987ba3dd',\n",
       " '53e9b6a2b7602d9704218bde',\n",
       " '53e9a9beb7602d970331fcb9',\n",
       " '53e99d1ab7602d97025cd811',\n",
       " '53e9ab82b7602d970352dbce',\n",
       " '53e9b7adb7602d97043580c9',\n",
       " '558bea54e4b00c3c48df3749',\n",
       " '56d8b22ddabfae2eeeea9347',\n",
       " '53e9b18fb7602d9703c19d56',\n",
       " '53e99dccb7602d9702690189',\n",
       " '53e9ab48b7602d97034d99c6',\n",
       " '558a9647e4b037c087580133',\n",
       " '5550451545ce0a409eb5382e',\n",
       " '53e9b90ab7602d97044ef268',\n",
       " '53e9a254b7602d9702b5b10e',\n",
       " '53e997f1b7602d9701fef0d6',\n",
       " '558c566de4b02b9f07a684e7',\n",
       " '557d9ab6f6678c77ea21bac5',\n",
       " '5ce2d21aced107d4c649ec2a',\n",
       " '53e99ae7b7602d9702372b18',\n",
       " '53e99de8b7602d97026a9234',\n",
       " '53e9b077b7602d9703ae1430',\n",
       " '5cede0e2da562983788c1137',\n",
       " '53e99b86b7602d970242d3d8',\n",
       " '53e9af40b7602d970397e98d',\n",
       " '558c49c4e4b02b9f07a63bd4',\n",
       " '558c0729e4b02b9f07a4a802',\n",
       " '53e9baa0b7602d97046c9fa7',\n",
       " '558be05ce4b02b9f07a3c526',\n",
       " '56d818f3dabfae2eee860f6a',\n",
       " '5eba73a891e01108d67e2d3f',\n",
       " '53e9bc36b7602d97048a9544',\n",
       " '573697f96e3b12023e6d2f12',\n",
       " '55503f3345ce0a409eb2cc3d',\n",
       " '558b5b5de4b037c0875c716e',\n",
       " '53e9a82cb7602d9703174b02',\n",
       " '55a6d13e65ce054aad76e9e0',\n",
       " '5c77bbc44895d9cbc64a5cc5',\n",
       " '53e9b790b7602d9704337f3c',\n",
       " '57a4e921ac44365e35c993b2',\n",
       " '53e9ac82b7602d970365aa6c',\n",
       " '53e9b976b7602d9704567959',\n",
       " '59ae3c022bbe271c4c71c81f',\n",
       " '53e9ae17b7602d9703828c94',\n",
       " '53e99ae1b7602d97023668ba',\n",
       " '5736967e6e3b12023e58abb9',\n",
       " '53e9997eb7602d97021c18fa',\n",
       " '555044d045ce0a409eb50ffa',\n",
       " '53e998f6b7602d97021333ce',\n",
       " '558a8e21e4b0b32fcb378372',\n",
       " '558295e60cf2e37586b55297',\n",
       " '5bbacb1017c44aecc4eaa26d',\n",
       " '53e9a9b0b7602d970330c607',\n",
       " '53e9a515b7602d9702e35a18',\n",
       " '557c4f2d08b02739a5ca3e2b',\n",
       " '558a6962e4b031bae1f77a72',\n",
       " '558c8156e4b00c3c48e2acd0',\n",
       " '57d063c7ac44367354290d6c',\n",
       " '53e9b0abb7602d9703b17601',\n",
       " '53e9a8ffb7602d9703252364',\n",
       " '59a02d29b161e8ad1a7b6d20',\n",
       " '53e9bb7ab7602d97047c17e8',\n",
       " '557ceae8f667eeed56194bb3',\n",
       " '53e99e0cb7602d97026d0ec9',\n",
       " '5c04967517c44a2c747092cc',\n",
       " '5bbacb3717c44aecc4eabbe6',\n",
       " '53e9b581b7602d97040c1d32',\n",
       " '5736954f6e3b12023e47aca4',\n",
       " '53e9b783b7602d970432aa9c',\n",
       " '53e9a2c8b7602d9702bd1d7a',\n",
       " '53e9992ab7602d9702164317',\n",
       " '53e9a34ab7602d9702c53d3b',\n",
       " '53e9b7f5b7602d97043a3586',\n",
       " '53e9bdd4b7602d9704a8288f',\n",
       " '53e9b240b7602d9703cdc7a6',\n",
       " '55503eda45ce0a409eb2ae91',\n",
       " '53e9a3fbb7602d9702d1118b',\n",
       " '53e9a64ab7602d9702f7cfce',\n",
       " '53e9a848b7602d9703192419',\n",
       " '53e9b159b7602d9703bdd80e',\n",
       " '53e9bc3bb7602d97048acd8e',\n",
       " '53e9b32bb7602d9703dfae19',\n",
       " '53e9b2f9b7602d9703db9d49',\n",
       " '53e9a987b7602d97032e579b',\n",
       " '53e9bd5fb7602d97049fc990',\n",
       " ...]"
      ]
     },
     "execution_count": 76,
     "metadata": {},
     "output_type": "execute_result"
    }
   ],
   "source": [
    "missing_ref_nodes"
   ]
  },
  {
   "cell_type": "code",
   "execution_count": 77,
   "metadata": {},
   "outputs": [
    {
     "data": {
      "text/plain": [
       "'53e997ccb7602d9701fbec61'"
      ]
     },
     "execution_count": 77,
     "metadata": {},
     "output_type": "execute_result"
    }
   ],
   "source": [
    "pid"
   ]
  },
  {
   "cell_type": "code",
   "execution_count": 86,
   "metadata": {},
   "outputs": [
    {
     "name": "stdout",
     "output_type": "stream",
     "text": [
      "CPU times: user 61.3 ms, sys: 0 ns, total: 61.3 ms\n",
      "Wall time: 60.8 ms\n"
     ]
    },
    {
     "data": {
      "text/plain": [
       "False"
      ]
     },
     "execution_count": 86,
     "metadata": {},
     "output_type": "execute_result"
    }
   ],
   "source": [
    "%%time\n",
    "pid in missing_ref_nodes"
   ]
  },
  {
   "cell_type": "code",
   "execution_count": 87,
   "metadata": {},
   "outputs": [],
   "source": [
    "misingstr = \" \".join(missing_ref_nodes)"
   ]
  },
  {
   "cell_type": "code",
   "execution_count": 89,
   "metadata": {},
   "outputs": [
    {
     "name": "stdout",
     "output_type": "stream",
     "text": [
      "CPU times: user 3.78 ms, sys: 0 ns, total: 3.78 ms\n",
      "Wall time: 3.68 ms\n"
     ]
    },
    {
     "data": {
      "text/plain": [
       "False"
      ]
     },
     "execution_count": 89,
     "metadata": {},
     "output_type": "execute_result"
    }
   ],
   "source": [
    "%%time\n",
    "misingstr.find(pid) > -1"
   ]
  },
  {
   "cell_type": "code",
   "execution_count": null,
   "metadata": {},
   "outputs": [],
   "source": []
  }
 ],
 "metadata": {
  "kernelspec": {
   "display_name": "Python 3",
   "language": "python",
   "name": "python3"
  },
  "language_info": {
   "codemirror_mode": {
    "name": "ipython",
    "version": 3
   },
   "file_extension": ".py",
   "mimetype": "text/x-python",
   "name": "python",
   "nbconvert_exporter": "python",
   "pygments_lexer": "ipython3",
   "version": "3.6.8"
  }
 },
 "nbformat": 4,
 "nbformat_minor": 2
}
